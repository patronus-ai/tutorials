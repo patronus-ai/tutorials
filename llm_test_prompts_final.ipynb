{
  "nbformat": 4,
  "nbformat_minor": 0,
  "metadata": {
    "colab": {
      "provenance": [],
      "machine_shape": "hm",
      "gpuType": "A100"
    },
    "kernelspec": {
      "name": "python3",
      "display_name": "Python 3"
    },
    "language_info": {
      "name": "python"
    },
    "accelerator": "GPU"
  },
  "cells": [
    {
      "cell_type": "markdown",
      "source": [
        "## Prompt Testing Techniques"
      ],
      "metadata": {
        "id": "Psl09lEOh8Wh"
      }
    },
    {
      "cell_type": "code",
      "source": [
        "!pip install huggingface_hub==0.24.7\n",
        "!pip install rouge-score\n",
        "!pip install transformers torch"
      ],
      "metadata": {
        "colab": {
          "base_uri": "https://localhost:8080/"
        },
        "id": "L4MR8ZxGilDr",
        "outputId": "0fa32f71-9b8c-4819-ecef-3bde73a80a65"
      },
      "execution_count": 1,
      "outputs": [
        {
          "output_type": "stream",
          "name": "stdout",
          "text": [
            "Collecting huggingface_hub==0.24.7\n",
            "  Downloading huggingface_hub-0.24.7-py3-none-any.whl.metadata (13 kB)\n",
            "Requirement already satisfied: filelock in /usr/local/lib/python3.11/dist-packages (from huggingface_hub==0.24.7) (3.18.0)\n",
            "Requirement already satisfied: fsspec>=2023.5.0 in /usr/local/lib/python3.11/dist-packages (from huggingface_hub==0.24.7) (2025.3.0)\n",
            "Requirement already satisfied: packaging>=20.9 in /usr/local/lib/python3.11/dist-packages (from huggingface_hub==0.24.7) (24.2)\n",
            "Requirement already satisfied: pyyaml>=5.1 in /usr/local/lib/python3.11/dist-packages (from huggingface_hub==0.24.7) (6.0.2)\n",
            "Requirement already satisfied: requests in /usr/local/lib/python3.11/dist-packages (from huggingface_hub==0.24.7) (2.32.3)\n",
            "Requirement already satisfied: tqdm>=4.42.1 in /usr/local/lib/python3.11/dist-packages (from huggingface_hub==0.24.7) (4.67.1)\n",
            "Requirement already satisfied: typing-extensions>=3.7.4.3 in /usr/local/lib/python3.11/dist-packages (from huggingface_hub==0.24.7) (4.13.0)\n",
            "Requirement already satisfied: charset-normalizer<4,>=2 in /usr/local/lib/python3.11/dist-packages (from requests->huggingface_hub==0.24.7) (3.4.1)\n",
            "Requirement already satisfied: idna<4,>=2.5 in /usr/local/lib/python3.11/dist-packages (from requests->huggingface_hub==0.24.7) (3.10)\n",
            "Requirement already satisfied: urllib3<3,>=1.21.1 in /usr/local/lib/python3.11/dist-packages (from requests->huggingface_hub==0.24.7) (2.3.0)\n",
            "Requirement already satisfied: certifi>=2017.4.17 in /usr/local/lib/python3.11/dist-packages (from requests->huggingface_hub==0.24.7) (2025.1.31)\n",
            "Downloading huggingface_hub-0.24.7-py3-none-any.whl (417 kB)\n",
            "\u001b[?25l   \u001b[90m━━━━━━━━━━━━━━━━━━━━━━━━━━━━━━━━━━━━━━━━\u001b[0m \u001b[32m0.0/417.5 kB\u001b[0m \u001b[31m?\u001b[0m eta \u001b[36m-:--:--\u001b[0m\r\u001b[2K   \u001b[91m━━━━━━━━━━━━━━━━━━━━━━━━━━━\u001b[0m\u001b[90m╺\u001b[0m\u001b[90m━━━━━━━━━━━━\u001b[0m \u001b[32m286.7/417.5 kB\u001b[0m \u001b[31m8.3 MB/s\u001b[0m eta \u001b[36m0:00:01\u001b[0m\r\u001b[2K   \u001b[90m━━━━━━━━━━━━━━━━━━━━━━━━━━━━━━━━━━━━━━━━\u001b[0m \u001b[32m417.5/417.5 kB\u001b[0m \u001b[31m7.5 MB/s\u001b[0m eta \u001b[36m0:00:00\u001b[0m\n",
            "\u001b[?25hInstalling collected packages: huggingface_hub\n",
            "  Attempting uninstall: huggingface_hub\n",
            "    Found existing installation: huggingface-hub 0.29.3\n",
            "    Uninstalling huggingface-hub-0.29.3:\n",
            "      Successfully uninstalled huggingface-hub-0.29.3\n",
            "\u001b[31mERROR: pip's dependency resolver does not currently take into account all the packages that are installed. This behaviour is the source of the following dependency conflicts.\n",
            "peft 0.14.0 requires huggingface-hub>=0.25.0, but you have huggingface-hub 0.24.7 which is incompatible.\n",
            "transformers 4.50.2 requires huggingface-hub<1.0,>=0.26.0, but you have huggingface-hub 0.24.7 which is incompatible.\u001b[0m\u001b[31m\n",
            "\u001b[0mSuccessfully installed huggingface_hub-0.24.7\n",
            "Collecting rouge-score\n",
            "  Downloading rouge_score-0.1.2.tar.gz (17 kB)\n",
            "  Preparing metadata (setup.py) ... \u001b[?25l\u001b[?25hdone\n",
            "Requirement already satisfied: absl-py in /usr/local/lib/python3.11/dist-packages (from rouge-score) (1.4.0)\n",
            "Requirement already satisfied: nltk in /usr/local/lib/python3.11/dist-packages (from rouge-score) (3.9.1)\n",
            "Requirement already satisfied: numpy in /usr/local/lib/python3.11/dist-packages (from rouge-score) (2.0.2)\n",
            "Requirement already satisfied: six>=1.14.0 in /usr/local/lib/python3.11/dist-packages (from rouge-score) (1.17.0)\n",
            "Requirement already satisfied: click in /usr/local/lib/python3.11/dist-packages (from nltk->rouge-score) (8.1.8)\n",
            "Requirement already satisfied: joblib in /usr/local/lib/python3.11/dist-packages (from nltk->rouge-score) (1.4.2)\n",
            "Requirement already satisfied: regex>=2021.8.3 in /usr/local/lib/python3.11/dist-packages (from nltk->rouge-score) (2024.11.6)\n",
            "Requirement already satisfied: tqdm in /usr/local/lib/python3.11/dist-packages (from nltk->rouge-score) (4.67.1)\n",
            "Building wheels for collected packages: rouge-score\n",
            "  Building wheel for rouge-score (setup.py) ... \u001b[?25l\u001b[?25hdone\n",
            "  Created wheel for rouge-score: filename=rouge_score-0.1.2-py3-none-any.whl size=24934 sha256=e39628b3fe32f04ae11a4887b6cdf0206e661c8b97fb778f57528d54b0948c5f\n",
            "  Stored in directory: /root/.cache/pip/wheels/1e/19/43/8a442dc83660ca25e163e1bd1f89919284ab0d0c1475475148\n",
            "Successfully built rouge-score\n",
            "Installing collected packages: rouge-score\n",
            "Successfully installed rouge-score-0.1.2\n",
            "Requirement already satisfied: transformers in /usr/local/lib/python3.11/dist-packages (4.50.2)\n",
            "Requirement already satisfied: torch in /usr/local/lib/python3.11/dist-packages (2.6.0+cu124)\n",
            "Requirement already satisfied: filelock in /usr/local/lib/python3.11/dist-packages (from transformers) (3.18.0)\n",
            "Collecting huggingface-hub<1.0,>=0.26.0 (from transformers)\n",
            "  Downloading huggingface_hub-0.30.1-py3-none-any.whl.metadata (13 kB)\n",
            "Requirement already satisfied: numpy>=1.17 in /usr/local/lib/python3.11/dist-packages (from transformers) (2.0.2)\n",
            "Requirement already satisfied: packaging>=20.0 in /usr/local/lib/python3.11/dist-packages (from transformers) (24.2)\n",
            "Requirement already satisfied: pyyaml>=5.1 in /usr/local/lib/python3.11/dist-packages (from transformers) (6.0.2)\n",
            "Requirement already satisfied: regex!=2019.12.17 in /usr/local/lib/python3.11/dist-packages (from transformers) (2024.11.6)\n",
            "Requirement already satisfied: requests in /usr/local/lib/python3.11/dist-packages (from transformers) (2.32.3)\n",
            "Requirement already satisfied: tokenizers<0.22,>=0.21 in /usr/local/lib/python3.11/dist-packages (from transformers) (0.21.1)\n",
            "Requirement already satisfied: safetensors>=0.4.3 in /usr/local/lib/python3.11/dist-packages (from transformers) (0.5.3)\n",
            "Requirement already satisfied: tqdm>=4.27 in /usr/local/lib/python3.11/dist-packages (from transformers) (4.67.1)\n",
            "Requirement already satisfied: typing-extensions>=4.10.0 in /usr/local/lib/python3.11/dist-packages (from torch) (4.13.0)\n",
            "Requirement already satisfied: networkx in /usr/local/lib/python3.11/dist-packages (from torch) (3.4.2)\n",
            "Requirement already satisfied: jinja2 in /usr/local/lib/python3.11/dist-packages (from torch) (3.1.6)\n",
            "Requirement already satisfied: fsspec in /usr/local/lib/python3.11/dist-packages (from torch) (2025.3.0)\n",
            "Collecting nvidia-cuda-nvrtc-cu12==12.4.127 (from torch)\n",
            "  Downloading nvidia_cuda_nvrtc_cu12-12.4.127-py3-none-manylinux2014_x86_64.whl.metadata (1.5 kB)\n",
            "Collecting nvidia-cuda-runtime-cu12==12.4.127 (from torch)\n",
            "  Downloading nvidia_cuda_runtime_cu12-12.4.127-py3-none-manylinux2014_x86_64.whl.metadata (1.5 kB)\n",
            "Collecting nvidia-cuda-cupti-cu12==12.4.127 (from torch)\n",
            "  Downloading nvidia_cuda_cupti_cu12-12.4.127-py3-none-manylinux2014_x86_64.whl.metadata (1.6 kB)\n",
            "Collecting nvidia-cudnn-cu12==9.1.0.70 (from torch)\n",
            "  Downloading nvidia_cudnn_cu12-9.1.0.70-py3-none-manylinux2014_x86_64.whl.metadata (1.6 kB)\n",
            "Collecting nvidia-cublas-cu12==12.4.5.8 (from torch)\n",
            "  Downloading nvidia_cublas_cu12-12.4.5.8-py3-none-manylinux2014_x86_64.whl.metadata (1.5 kB)\n",
            "Collecting nvidia-cufft-cu12==11.2.1.3 (from torch)\n",
            "  Downloading nvidia_cufft_cu12-11.2.1.3-py3-none-manylinux2014_x86_64.whl.metadata (1.5 kB)\n",
            "Collecting nvidia-curand-cu12==10.3.5.147 (from torch)\n",
            "  Downloading nvidia_curand_cu12-10.3.5.147-py3-none-manylinux2014_x86_64.whl.metadata (1.5 kB)\n",
            "Collecting nvidia-cusolver-cu12==11.6.1.9 (from torch)\n",
            "  Downloading nvidia_cusolver_cu12-11.6.1.9-py3-none-manylinux2014_x86_64.whl.metadata (1.6 kB)\n",
            "Collecting nvidia-cusparse-cu12==12.3.1.170 (from torch)\n",
            "  Downloading nvidia_cusparse_cu12-12.3.1.170-py3-none-manylinux2014_x86_64.whl.metadata (1.6 kB)\n",
            "Requirement already satisfied: nvidia-cusparselt-cu12==0.6.2 in /usr/local/lib/python3.11/dist-packages (from torch) (0.6.2)\n",
            "Requirement already satisfied: nvidia-nccl-cu12==2.21.5 in /usr/local/lib/python3.11/dist-packages (from torch) (2.21.5)\n",
            "Requirement already satisfied: nvidia-nvtx-cu12==12.4.127 in /usr/local/lib/python3.11/dist-packages (from torch) (12.4.127)\n",
            "Collecting nvidia-nvjitlink-cu12==12.4.127 (from torch)\n",
            "  Downloading nvidia_nvjitlink_cu12-12.4.127-py3-none-manylinux2014_x86_64.whl.metadata (1.5 kB)\n",
            "Requirement already satisfied: triton==3.2.0 in /usr/local/lib/python3.11/dist-packages (from torch) (3.2.0)\n",
            "Requirement already satisfied: sympy==1.13.1 in /usr/local/lib/python3.11/dist-packages (from torch) (1.13.1)\n",
            "Requirement already satisfied: mpmath<1.4,>=1.1.0 in /usr/local/lib/python3.11/dist-packages (from sympy==1.13.1->torch) (1.3.0)\n",
            "Requirement already satisfied: MarkupSafe>=2.0 in /usr/local/lib/python3.11/dist-packages (from jinja2->torch) (3.0.2)\n",
            "Requirement already satisfied: charset-normalizer<4,>=2 in /usr/local/lib/python3.11/dist-packages (from requests->transformers) (3.4.1)\n",
            "Requirement already satisfied: idna<4,>=2.5 in /usr/local/lib/python3.11/dist-packages (from requests->transformers) (3.10)\n",
            "Requirement already satisfied: urllib3<3,>=1.21.1 in /usr/local/lib/python3.11/dist-packages (from requests->transformers) (2.3.0)\n",
            "Requirement already satisfied: certifi>=2017.4.17 in /usr/local/lib/python3.11/dist-packages (from requests->transformers) (2025.1.31)\n",
            "Downloading nvidia_cublas_cu12-12.4.5.8-py3-none-manylinux2014_x86_64.whl (363.4 MB)\n",
            "\u001b[2K   \u001b[90m━━━━━━━━━━━━━━━━━━━━━━━━━━━━━━━━━━━━━━━━\u001b[0m \u001b[32m363.4/363.4 MB\u001b[0m \u001b[31m2.5 MB/s\u001b[0m eta \u001b[36m0:00:00\u001b[0m\n",
            "\u001b[?25hDownloading nvidia_cuda_cupti_cu12-12.4.127-py3-none-manylinux2014_x86_64.whl (13.8 MB)\n",
            "\u001b[2K   \u001b[90m━━━━━━━━━━━━━━━━━━━━━━━━━━━━━━━━━━━━━━━━\u001b[0m \u001b[32m13.8/13.8 MB\u001b[0m \u001b[31m115.7 MB/s\u001b[0m eta \u001b[36m0:00:00\u001b[0m\n",
            "\u001b[?25hDownloading nvidia_cuda_nvrtc_cu12-12.4.127-py3-none-manylinux2014_x86_64.whl (24.6 MB)\n",
            "\u001b[2K   \u001b[90m━━━━━━━━━━━━━━━━━━━━━━━━━━━━━━━━━━━━━━━━\u001b[0m \u001b[32m24.6/24.6 MB\u001b[0m \u001b[31m85.4 MB/s\u001b[0m eta \u001b[36m0:00:00\u001b[0m\n",
            "\u001b[?25hDownloading nvidia_cuda_runtime_cu12-12.4.127-py3-none-manylinux2014_x86_64.whl (883 kB)\n",
            "\u001b[2K   \u001b[90m━━━━━━━━━━━━━━━━━━━━━━━━━━━━━━━━━━━━━━━━\u001b[0m \u001b[32m883.7/883.7 kB\u001b[0m \u001b[31m57.1 MB/s\u001b[0m eta \u001b[36m0:00:00\u001b[0m\n",
            "\u001b[?25hDownloading nvidia_cudnn_cu12-9.1.0.70-py3-none-manylinux2014_x86_64.whl (664.8 MB)\n",
            "\u001b[2K   \u001b[90m━━━━━━━━━━━━━━━━━━━━━━━━━━━━━━━━━━━━━━━━\u001b[0m \u001b[32m664.8/664.8 MB\u001b[0m \u001b[31m1.3 MB/s\u001b[0m eta \u001b[36m0:00:00\u001b[0m\n",
            "\u001b[?25hDownloading nvidia_cufft_cu12-11.2.1.3-py3-none-manylinux2014_x86_64.whl (211.5 MB)\n",
            "\u001b[2K   \u001b[90m━━━━━━━━━━━━━━━━━━━━━━━━━━━━━━━━━━━━━━━━\u001b[0m \u001b[32m211.5/211.5 MB\u001b[0m \u001b[31m9.3 MB/s\u001b[0m eta \u001b[36m0:00:00\u001b[0m\n",
            "\u001b[?25hDownloading nvidia_curand_cu12-10.3.5.147-py3-none-manylinux2014_x86_64.whl (56.3 MB)\n",
            "\u001b[2K   \u001b[90m━━━━━━━━━━━━━━━━━━━━━━━━━━━━━━━━━━━━━━━━\u001b[0m \u001b[32m56.3/56.3 MB\u001b[0m \u001b[31m36.8 MB/s\u001b[0m eta \u001b[36m0:00:00\u001b[0m\n",
            "\u001b[?25hDownloading nvidia_cusolver_cu12-11.6.1.9-py3-none-manylinux2014_x86_64.whl (127.9 MB)\n",
            "\u001b[2K   \u001b[90m━━━━━━━━━━━━━━━━━━━━━━━━━━━━━━━━━━━━━━━━\u001b[0m \u001b[32m127.9/127.9 MB\u001b[0m \u001b[31m16.5 MB/s\u001b[0m eta \u001b[36m0:00:00\u001b[0m\n",
            "\u001b[?25hDownloading nvidia_cusparse_cu12-12.3.1.170-py3-none-manylinux2014_x86_64.whl (207.5 MB)\n",
            "\u001b[2K   \u001b[90m━━━━━━━━━━━━━━━━━━━━━━━━━━━━━━━━━━━━━━━━\u001b[0m \u001b[32m207.5/207.5 MB\u001b[0m \u001b[31m2.6 MB/s\u001b[0m eta \u001b[36m0:00:00\u001b[0m\n",
            "\u001b[?25hDownloading nvidia_nvjitlink_cu12-12.4.127-py3-none-manylinux2014_x86_64.whl (21.1 MB)\n",
            "\u001b[2K   \u001b[90m━━━━━━━━━━━━━━━━━━━━━━━━━━━━━━━━━━━━━━━━\u001b[0m \u001b[32m21.1/21.1 MB\u001b[0m \u001b[31m92.8 MB/s\u001b[0m eta \u001b[36m0:00:00\u001b[0m\n",
            "\u001b[?25hDownloading huggingface_hub-0.30.1-py3-none-any.whl (481 kB)\n",
            "\u001b[2K   \u001b[90m━━━━━━━━━━━━━━━━━━━━━━━━━━━━━━━━━━━━━━━━\u001b[0m \u001b[32m481.2/481.2 kB\u001b[0m \u001b[31m36.6 MB/s\u001b[0m eta \u001b[36m0:00:00\u001b[0m\n",
            "\u001b[?25hInstalling collected packages: nvidia-nvjitlink-cu12, nvidia-curand-cu12, nvidia-cufft-cu12, nvidia-cuda-runtime-cu12, nvidia-cuda-nvrtc-cu12, nvidia-cuda-cupti-cu12, nvidia-cublas-cu12, nvidia-cusparse-cu12, nvidia-cudnn-cu12, huggingface-hub, nvidia-cusolver-cu12\n",
            "  Attempting uninstall: nvidia-nvjitlink-cu12\n",
            "    Found existing installation: nvidia-nvjitlink-cu12 12.5.82\n",
            "    Uninstalling nvidia-nvjitlink-cu12-12.5.82:\n",
            "      Successfully uninstalled nvidia-nvjitlink-cu12-12.5.82\n",
            "  Attempting uninstall: nvidia-curand-cu12\n",
            "    Found existing installation: nvidia-curand-cu12 10.3.6.82\n",
            "    Uninstalling nvidia-curand-cu12-10.3.6.82:\n",
            "      Successfully uninstalled nvidia-curand-cu12-10.3.6.82\n",
            "  Attempting uninstall: nvidia-cufft-cu12\n",
            "    Found existing installation: nvidia-cufft-cu12 11.2.3.61\n",
            "    Uninstalling nvidia-cufft-cu12-11.2.3.61:\n",
            "      Successfully uninstalled nvidia-cufft-cu12-11.2.3.61\n",
            "  Attempting uninstall: nvidia-cuda-runtime-cu12\n",
            "    Found existing installation: nvidia-cuda-runtime-cu12 12.5.82\n",
            "    Uninstalling nvidia-cuda-runtime-cu12-12.5.82:\n",
            "      Successfully uninstalled nvidia-cuda-runtime-cu12-12.5.82\n",
            "  Attempting uninstall: nvidia-cuda-nvrtc-cu12\n",
            "    Found existing installation: nvidia-cuda-nvrtc-cu12 12.5.82\n",
            "    Uninstalling nvidia-cuda-nvrtc-cu12-12.5.82:\n",
            "      Successfully uninstalled nvidia-cuda-nvrtc-cu12-12.5.82\n",
            "  Attempting uninstall: nvidia-cuda-cupti-cu12\n",
            "    Found existing installation: nvidia-cuda-cupti-cu12 12.5.82\n",
            "    Uninstalling nvidia-cuda-cupti-cu12-12.5.82:\n",
            "      Successfully uninstalled nvidia-cuda-cupti-cu12-12.5.82\n",
            "  Attempting uninstall: nvidia-cublas-cu12\n",
            "    Found existing installation: nvidia-cublas-cu12 12.5.3.2\n",
            "    Uninstalling nvidia-cublas-cu12-12.5.3.2:\n",
            "      Successfully uninstalled nvidia-cublas-cu12-12.5.3.2\n",
            "  Attempting uninstall: nvidia-cusparse-cu12\n",
            "    Found existing installation: nvidia-cusparse-cu12 12.5.1.3\n",
            "    Uninstalling nvidia-cusparse-cu12-12.5.1.3:\n",
            "      Successfully uninstalled nvidia-cusparse-cu12-12.5.1.3\n",
            "  Attempting uninstall: nvidia-cudnn-cu12\n",
            "    Found existing installation: nvidia-cudnn-cu12 9.3.0.75\n",
            "    Uninstalling nvidia-cudnn-cu12-9.3.0.75:\n",
            "      Successfully uninstalled nvidia-cudnn-cu12-9.3.0.75\n",
            "  Attempting uninstall: huggingface-hub\n",
            "    Found existing installation: huggingface-hub 0.24.7\n",
            "    Uninstalling huggingface-hub-0.24.7:\n",
            "      Successfully uninstalled huggingface-hub-0.24.7\n",
            "  Attempting uninstall: nvidia-cusolver-cu12\n",
            "    Found existing installation: nvidia-cusolver-cu12 11.6.3.83\n",
            "    Uninstalling nvidia-cusolver-cu12-11.6.3.83:\n",
            "      Successfully uninstalled nvidia-cusolver-cu12-11.6.3.83\n",
            "Successfully installed huggingface-hub-0.30.1 nvidia-cublas-cu12-12.4.5.8 nvidia-cuda-cupti-cu12-12.4.127 nvidia-cuda-nvrtc-cu12-12.4.127 nvidia-cuda-runtime-cu12-12.4.127 nvidia-cudnn-cu12-9.1.0.70 nvidia-cufft-cu12-11.2.1.3 nvidia-curand-cu12-10.3.5.147 nvidia-cusolver-cu12-11.6.1.9 nvidia-cusparse-cu12-12.3.1.170 nvidia-nvjitlink-cu12-12.4.127\n"
          ]
        }
      ]
    },
    {
      "cell_type": "code",
      "source": [
        "from huggingface_hub import InferenceClient\n",
        "from transformers import pipeline\n",
        "import torch\n",
        "import os\n",
        "import pandas as pd\n",
        "import seaborn as sns\n",
        "sns.set_style(\"darkgrid\")\n",
        "import matplotlib.pyplot as plt\n",
        "from rouge_score import rouge_scorer\n",
        "from google.colab import userdata\n",
        "import nltk\n",
        "from nltk.translate.bleu_score import sentence_bleu, SmoothingFunction\n",
        "from nltk.translate.meteor_score import meteor_score\n",
        "from nltk.tokenize import word_tokenize\n",
        "nltk.download('punkt', quiet=True)\n",
        "nltk.download('wordnet')\n"
      ],
      "metadata": {
        "colab": {
          "base_uri": "https://localhost:8080/"
        },
        "id": "VhZRmRHcinKu",
        "outputId": "23d3d259-8d8d-4a27-e774-5af3b73c9791"
      },
      "execution_count": 2,
      "outputs": [
        {
          "output_type": "stream",
          "name": "stderr",
          "text": [
            "[nltk_data] Downloading package wordnet to /root/nltk_data...\n"
          ]
        },
        {
          "output_type": "execute_result",
          "data": {
            "text/plain": [
              "True"
            ]
          },
          "metadata": {},
          "execution_count": 2
        }
      ]
    },
    {
      "cell_type": "code",
      "source": [
        "hf_token = userdata.get('HF_API_TOKEN')\n",
        "\n",
        "deepseek_model_client = InferenceClient(\n",
        "    \"deepseek-ai/DeepSeek-R1-Distill-Qwen-32B\",\n",
        "    token=hf_token,\n",
        "    # headers={\"X-Use-Cache\": \"false\"}\n",
        ")"
      ],
      "metadata": {
        "id": "Q2jnVwI_ipze"
      },
      "execution_count": 3,
      "outputs": []
    },
    {
      "cell_type": "code",
      "source": [
        "def generate_response(model, system_role, user_query, temperature = 0.1, top_p = 0.1):\n",
        "\n",
        "    response = model.chat_completion(\n",
        "    messages=[{\"role\": \"system\", \"content\": system_role},\n",
        "        {\"role\": \"user\", \"content\": user_query}],\n",
        "    max_tokens=4000,\n",
        "    temperature = temperature,\n",
        "    top_p = top_p\n",
        "    )\n",
        "\n",
        "    return response.choices[0].message.content"
      ],
      "metadata": {
        "id": "3KrUXdvd4nXn"
      },
      "execution_count": 4,
      "outputs": []
    },
    {
      "cell_type": "markdown",
      "source": [
        "### Pointwise vs. Pairwise Testing"
      ],
      "metadata": {
        "id": "0WsF6NCY4jBQ"
      }
    },
    {
      "cell_type": "markdown",
      "source": [
        "#### Pointwise Testing"
      ],
      "metadata": {
        "id": "YbPQiPCrjpTM"
      }
    },
    {
      "cell_type": "code",
      "source": [
        "system_role = \"You are an expert tweet sentiment analyzer.\"\n",
        "user_query = f\"\"\"What is the sentiment expressed in the following tweet:\n",
        "I like the movie but it was a bit too long.\"\"\"\n",
        "\n",
        "output = generate_response(deepseek_model_client,\n",
        "               system_role,\n",
        "               user_query)\n",
        "\n",
        "## only retrieve the response not the thought process\n",
        "response = output.strip().split(\"</think>\")[-1].strip()\n",
        "response"
      ],
      "metadata": {
        "colab": {
          "base_uri": "https://localhost:8080/",
          "height": 70
        },
        "id": "qTOaKVSx4olp",
        "outputId": "b57451e1-2417-420d-8c35-71ec64e3df50"
      },
      "execution_count": null,
      "outputs": [
        {
          "output_type": "execute_result",
          "data": {
            "text/plain": [
              "'The sentiment of the tweet is mixed. The user expresses a positive sentiment towards liking the movie but also a negative sentiment regarding its length. This combination of both positive and negative elements results in an overall mixed sentiment. \\n\\n**Answer:** The sentiment is mixed.'"
            ],
            "application/vnd.google.colaboratory.intrinsic+json": {
              "type": "string"
            }
          },
          "metadata": {},
          "execution_count": 5
        }
      ]
    },
    {
      "cell_type": "markdown",
      "source": [
        "#### Pairwise Testing"
      ],
      "metadata": {
        "id": "t_26u2o0jr9m"
      }
    },
    {
      "cell_type": "code",
      "source": [
        "system_role = \"You are an expert tweet sentiment analyzer.\"\n",
        "\n",
        "user_query1 = f\"\"\"What is the sentiment expressed in the following tweet:\n",
        "I like the movie but it was a bit too long.\"\"\"\n",
        "\n",
        "\n",
        "user_query2 = f\"\"\"What is the sentiment expressed in the following tweet.\n",
        "Your response must be one word: postive, negative, or mixed.\n",
        "I like the movie but it was a bit too long.\"\"\"\n",
        "\n",
        "prompts = {\"Prompt 1\": user_query1,\n",
        "           \"Prompt 2\": user_query2}\n",
        "\n",
        "for prompt, user_query in prompts.items():\n",
        "  output = generate_response(deepseek_model_client,\n",
        "               system_role,\n",
        "               user_query)\n",
        "\n",
        "  response = output.strip().split(\"</think>\")[-1].strip()\n",
        "  print(f\"Response from {prompt}: {response}\")\n",
        "\n"
      ],
      "metadata": {
        "colab": {
          "base_uri": "https://localhost:8080/"
        },
        "id": "4qQpDVZT49fj",
        "outputId": "e5654e46-c4ee-445e-c075-87e5722b6255"
      },
      "execution_count": null,
      "outputs": [
        {
          "output_type": "stream",
          "name": "stdout",
          "text": [
            "Response from Prompt 1: The sentiment of the tweet is mixed. The user expresses a positive sentiment towards liking the movie but also a negative sentiment regarding its length. This combination of both positive and negative elements results in an overall mixed sentiment. \n",
            "\n",
            "**Answer:** The sentiment is mixed.\n",
            "Response from Prompt 2: mixed\n"
          ]
        }
      ]
    },
    {
      "cell_type": "markdown",
      "source": [
        "## Reference Free vs Reference Based Testing"
      ],
      "metadata": {
        "id": "Cg-gwO1X9xW4"
      }
    },
    {
      "cell_type": "markdown",
      "source": [
        "#### Reference-based Testing"
      ],
      "metadata": {
        "id": "g2icohN1jz28"
      }
    },
    {
      "cell_type": "code",
      "source": [
        "target_label = \"mixed\"\n",
        "\n",
        "system_role = \"You are an expert tweet sentiment analyzer.\"\n",
        "user_query = f\"\"\"What is the sentiment expressed in the following tweet.\n",
        "Your response must be one word: postive, negative, or mixed.\n",
        "I like the movie but it was a bit too long.\"\"\"\n",
        "\n",
        "output = generate_response(deepseek_model_client,\n",
        "               system_role,\n",
        "               user_query)\n",
        "\n",
        "response = output.strip().split(\"</think>\")[-1].strip()\n",
        "print(response)\n",
        "\n",
        "if response == target_label:\n",
        "  print(\"Correct\")\n",
        "else:\n",
        "  print(\"Incorrect\")"
      ],
      "metadata": {
        "colab": {
          "base_uri": "https://localhost:8080/"
        },
        "id": "-y6h9wWQ-QC8",
        "outputId": "49463e1d-b9bc-4528-a03a-ce842d68f9b4"
      },
      "execution_count": null,
      "outputs": [
        {
          "output_type": "stream",
          "name": "stdout",
          "text": [
            "mixed\n",
            "Correct\n"
          ]
        }
      ]
    },
    {
      "cell_type": "markdown",
      "source": [
        "#### Reference-free Testing"
      ],
      "metadata": {
        "id": "5aJ7vsZdj6N1"
      }
    },
    {
      "cell_type": "code",
      "source": [
        "#Llama 3.3 endpoint\n",
        "#https://huggingface.co/meta-llama/Llama-3.3-70B-Instruct\n",
        "llama_model_client = InferenceClient(\n",
        "    \"meta-llama/Llama-3.3-70B-Instruct\",\n",
        "    token=hf_token\n",
        ")\n",
        "\n",
        "system_role = \"You are an expert LLM response evaulator.\"\n",
        "user_query = f\"\"\"Given the following input to an LLM:{user_query},\n",
        "and the following response {response}. Do you think the response is accurate?\"\"\"\n",
        "\n",
        "\n",
        "output = generate_response(llama_model_client,\n",
        "               system_role,\n",
        "               user_query)\n",
        "output"
      ],
      "metadata": {
        "colab": {
          "base_uri": "https://localhost:8080/",
          "height": 53
        },
        "id": "A4tDJKo5-oFN",
        "outputId": "cebb189a-1cb0-4cb3-f2fb-7951b3f4c5ba"
      },
      "execution_count": null,
      "outputs": [
        {
          "output_type": "execute_result",
          "data": {
            "text/plain": [
              "'Yes. \\n\\nThe tweet expresses both a positive sentiment (\"I like the movie\") and a negative sentiment (\"it was a bit too long\"), which makes the overall sentiment \"mixed\". The response accurately captures this nuanced sentiment.'"
            ],
            "application/vnd.google.colaboratory.intrinsic+json": {
              "type": "string"
            }
          },
          "metadata": {},
          "execution_count": 8
        }
      ]
    },
    {
      "cell_type": "markdown",
      "source": [
        "## Factors Affecting Prompt Response"
      ],
      "metadata": {
        "id": "Xb1N0bgDEt1I"
      }
    },
    {
      "cell_type": "markdown",
      "source": [
        "### System Instructions"
      ],
      "metadata": {
        "id": "RRA_69sffJnr"
      }
    },
    {
      "cell_type": "code",
      "source": [
        "system_role = \"You are an expert tweet sentiment analyzer.\"\n",
        "user_query = f\"\"\"What is the sentiment expressed in the following tweet.\n",
        "Your response must be negative postive, negative, or mixed.\n",
        "I like the movie but it was a bit too long.\"\"\"\n",
        "\n",
        "output = generate_response(deepseek_model_client,\n",
        "               system_role,\n",
        "               user_query)\n",
        "\n",
        "response = output.strip().split(\"</think>\")[-1].strip()\n",
        "response"
      ],
      "metadata": {
        "colab": {
          "base_uri": "https://localhost:8080/",
          "height": 70
        },
        "id": "xt6bW199fPiI",
        "outputId": "9ebab07b-2154-45e6-ff9f-b4815622effe"
      },
      "execution_count": null,
      "outputs": [
        {
          "output_type": "execute_result",
          "data": {
            "text/plain": [
              "'The sentiment expressed in the tweet is mixed. \\n\\nStep-by-step explanation:\\n1. The tweet begins with a positive statement: \"I like the movie.\"\\n2. It then contrasts with a negative point: \"it was a bit too long.\"\\n3. The presence of both positive and negative sentiments indicates a mixed overall sentiment.\\n\\nAnswer: mixed'"
            ],
            "application/vnd.google.colaboratory.intrinsic+json": {
              "type": "string"
            }
          },
          "metadata": {},
          "execution_count": 9
        }
      ]
    },
    {
      "cell_type": "code",
      "source": [
        "system_role = \"You are an expert tweet sentiment analyzer. You respond in a single word.\"\n",
        "user_query = f\"\"\"What is the sentiment expressed in the following tweet.\n",
        "Your response must be negative postive, negative, or mixed.\n",
        "I like the movie but it was a bit too long.\"\"\"\n",
        "\n",
        "output = generate_response(deepseek_model_client,\n",
        "               system_role,\n",
        "               user_query)\n",
        "\n",
        "response = output.strip().split(\"</think>\")[-1].strip()\n",
        "response"
      ],
      "metadata": {
        "colab": {
          "base_uri": "https://localhost:8080/",
          "height": 36
        },
        "id": "k3mTMEORfmUs",
        "outputId": "7ed917fa-8bfd-426a-bb1d-576aead8b2e4"
      },
      "execution_count": null,
      "outputs": [
        {
          "output_type": "execute_result",
          "data": {
            "text/plain": [
              "'mixed'"
            ],
            "application/vnd.google.colaboratory.intrinsic+json": {
              "type": "string"
            }
          },
          "metadata": {},
          "execution_count": 10
        }
      ]
    },
    {
      "cell_type": "markdown",
      "source": [
        "### Temperature Settings"
      ],
      "metadata": {
        "id": "NDLOkwnHG6iH"
      }
    },
    {
      "cell_type": "code",
      "source": [
        "system_prompt = \"You are an expert tweet sentiment analyzer.\"\n",
        "user_query = f\"\"\"What is the sentiment expressed in the following tweet:\n",
        "I liked the movie but it was a bit too long.\"\"\"\n",
        "\n",
        "output = generate_response(deepseek_model_client,\n",
        "               system_prompt,\n",
        "               user_query,\n",
        "               temperature = 0)\n",
        "\n",
        "response = output.strip().split(\"</think>\")[-1].strip()\n",
        "response"
      ],
      "metadata": {
        "colab": {
          "base_uri": "https://localhost:8080/",
          "height": 54
        },
        "id": "liuFF2SbExGD",
        "outputId": "dcbecd13-1263-422d-b38a-189dd879becb"
      },
      "execution_count": null,
      "outputs": [
        {
          "output_type": "execute_result",
          "data": {
            "text/plain": [
              "'The sentiment of the tweet is mixed. The user expresses a positive sentiment by stating they liked the movie, but also includes a negative aspect by mentioning that it was too long. This combination of positive and negative elements results in an overall mixed sentiment.'"
            ],
            "application/vnd.google.colaboratory.intrinsic+json": {
              "type": "string"
            }
          },
          "metadata": {},
          "execution_count": 10
        }
      ]
    },
    {
      "cell_type": "code",
      "source": [
        "output = generate_response(deepseek_model_client,\n",
        "               system_prompt,\n",
        "               user_query,\n",
        "               temperature = 0.8)\n",
        "\n",
        "response = output.strip().split(\"</think>\")[-1].strip()\n",
        "response"
      ],
      "metadata": {
        "id": "AgFhiTNsFC5i",
        "colab": {
          "base_uri": "https://localhost:8080/",
          "height": 54
        },
        "outputId": "7bcdc509-b180-4418-c274-17b10bfd3293"
      },
      "execution_count": null,
      "outputs": [
        {
          "output_type": "execute_result",
          "data": {
            "text/plain": [
              "'The sentiment expressed in the tweet is mixed. The user acknowledges a positive aspect by stating they liked the movie, while also expressing a mild negative criticism about its length. This combination of positive and negative sentiments results in an overall mixed sentiment.'"
            ],
            "application/vnd.google.colaboratory.intrinsic+json": {
              "type": "string"
            }
          },
          "metadata": {},
          "execution_count": 12
        }
      ]
    },
    {
      "cell_type": "markdown",
      "source": [
        "### The Affect of Top-P"
      ],
      "metadata": {
        "id": "TV3klLeeHCrH"
      }
    },
    {
      "cell_type": "code",
      "source": [
        "system_prompt = \"You are an expert tweet sentiment analyze.\"\n",
        "user_query = f\"\"\"What is the sentiment expressed in the following tweet:\n",
        "I liked the movie but it was a bit too long.\"\"\"\n",
        "\n",
        "output = generate_response(deepseek_model_client,\n",
        "               system_prompt,\n",
        "               user_query,\n",
        "               temperature = 0.5,\n",
        "               top_p = 0.1)\n",
        "\n",
        "response = output.strip().split(\"</think>\")[-1].strip()\n",
        "response\n"
      ],
      "metadata": {
        "id": "6z7OlJqCXobw",
        "colab": {
          "base_uri": "https://localhost:8080/",
          "height": 54
        },
        "outputId": "9ab86c74-d237-4630-ed04-5c13b7409505"
      },
      "execution_count": null,
      "outputs": [
        {
          "output_type": "execute_result",
          "data": {
            "text/plain": [
              "'The sentiment of the tweet is mixed. The user expresses a positive sentiment by stating they liked the movie, but also includes a negative aspect by mentioning that it was a bit too long. This combination of positive and negative elements results in an overall mixed sentiment.'"
            ],
            "application/vnd.google.colaboratory.intrinsic+json": {
              "type": "string"
            }
          },
          "metadata": {},
          "execution_count": 13
        }
      ]
    },
    {
      "cell_type": "code",
      "source": [
        "system_prompt = \"You are an expert tweet sentiment analyze.\"\n",
        "user_query = f\"\"\"What is the sentiment expressed in the following tweet:\n",
        "I liked the movie but it was a bit too long.\"\"\"\n",
        "\n",
        "output = generate_response(deepseek_model_client,\n",
        "               system_prompt,\n",
        "               user_query,\n",
        "               temperature = 0.5,\n",
        "               top_p = 0.9)\n",
        "\n",
        "response = output.strip().split(\"</think>\")[-1].strip()\n",
        "response"
      ],
      "metadata": {
        "id": "R2b21Nm_dL5H",
        "colab": {
          "base_uri": "https://localhost:8080/",
          "height": 54
        },
        "outputId": "f4edf61d-941b-49c6-f40e-4a98aa506d36"
      },
      "execution_count": null,
      "outputs": [
        {
          "output_type": "execute_result",
          "data": {
            "text/plain": [
              "'The sentiment of the tweet is mixed. The person expresses a positive sentiment towards liking the movie but also a negative sentiment regarding its length. Therefore, the overall sentiment is mixed.'"
            ],
            "application/vnd.google.colaboratory.intrinsic+json": {
              "type": "string"
            }
          },
          "metadata": {},
          "execution_count": 14
        }
      ]
    },
    {
      "cell_type": "markdown",
      "source": [
        "## Patronus AI platform"
      ],
      "metadata": {
        "id": "KUoR_fDTi1OC"
      }
    },
    {
      "cell_type": "markdown",
      "source": [
        "### LLM As a Judge"
      ],
      "metadata": {
        "id": "v-q6Qdjc7u__"
      }
    },
    {
      "cell_type": "code",
      "source": [
        "!pip install patronus"
      ],
      "metadata": {
        "colab": {
          "base_uri": "https://localhost:8080/"
        },
        "id": "CB9qlzfysZ3F",
        "outputId": "6e57b7ae-c883-4a04-838f-df03d6624333"
      },
      "execution_count": 5,
      "outputs": [
        {
          "output_type": "stream",
          "name": "stdout",
          "text": [
            "Collecting patronus\n",
            "  Downloading patronus-0.1.3-py3-none-any.whl.metadata (6.1 kB)\n",
            "Collecting httpx<0.28.0,>=0.27.0 (from patronus)\n",
            "  Downloading httpx-0.27.2-py3-none-any.whl.metadata (7.1 kB)\n",
            "Requirement already satisfied: opentelemetry-api<2.0.0,>=1.31.0 in /usr/local/lib/python3.11/dist-packages (from patronus) (1.31.1)\n",
            "Collecting opentelemetry-exporter-otlp<2.0.0,>=1.31.0 (from patronus)\n",
            "  Downloading opentelemetry_exporter_otlp-1.31.1-py3-none-any.whl.metadata (2.5 kB)\n",
            "Requirement already satisfied: opentelemetry-sdk<2.0.0,>=1.31.0 in /usr/local/lib/python3.11/dist-packages (from patronus) (1.31.1)\n",
            "Requirement already satisfied: pydantic<3.0.0,>=2.8.2 in /usr/local/lib/python3.11/dist-packages (from patronus) (2.11.0)\n",
            "Collecting pydantic-settings<3.0.0,>=2.4.0 (from patronus)\n",
            "  Downloading pydantic_settings-2.8.1-py3-none-any.whl.metadata (3.5 kB)\n",
            "Requirement already satisfied: pyyaml<7.0.0,>=6.0.2 in /usr/local/lib/python3.11/dist-packages (from patronus) (6.0.2)\n",
            "Requirement already satisfied: tqdm<5.0.0,>=4.66.5 in /usr/local/lib/python3.11/dist-packages (from patronus) (4.67.1)\n",
            "Requirement already satisfied: typing-extensions<5.0.0,>=4.12.2 in /usr/local/lib/python3.11/dist-packages (from patronus) (4.13.0)\n",
            "Requirement already satisfied: anyio in /usr/local/lib/python3.11/dist-packages (from httpx<0.28.0,>=0.27.0->patronus) (4.9.0)\n",
            "Requirement already satisfied: certifi in /usr/local/lib/python3.11/dist-packages (from httpx<0.28.0,>=0.27.0->patronus) (2025.1.31)\n",
            "Requirement already satisfied: httpcore==1.* in /usr/local/lib/python3.11/dist-packages (from httpx<0.28.0,>=0.27.0->patronus) (1.0.7)\n",
            "Requirement already satisfied: idna in /usr/local/lib/python3.11/dist-packages (from httpx<0.28.0,>=0.27.0->patronus) (3.10)\n",
            "Requirement already satisfied: sniffio in /usr/local/lib/python3.11/dist-packages (from httpx<0.28.0,>=0.27.0->patronus) (1.3.1)\n",
            "Requirement already satisfied: h11<0.15,>=0.13 in /usr/local/lib/python3.11/dist-packages (from httpcore==1.*->httpx<0.28.0,>=0.27.0->patronus) (0.14.0)\n",
            "Requirement already satisfied: deprecated>=1.2.6 in /usr/local/lib/python3.11/dist-packages (from opentelemetry-api<2.0.0,>=1.31.0->patronus) (1.2.18)\n",
            "Requirement already satisfied: importlib-metadata<8.7.0,>=6.0 in /usr/local/lib/python3.11/dist-packages (from opentelemetry-api<2.0.0,>=1.31.0->patronus) (8.6.1)\n",
            "Collecting opentelemetry-exporter-otlp-proto-grpc==1.31.1 (from opentelemetry-exporter-otlp<2.0.0,>=1.31.0->patronus)\n",
            "  Downloading opentelemetry_exporter_otlp_proto_grpc-1.31.1-py3-none-any.whl.metadata (2.5 kB)\n",
            "Collecting opentelemetry-exporter-otlp-proto-http==1.31.1 (from opentelemetry-exporter-otlp<2.0.0,>=1.31.0->patronus)\n",
            "  Downloading opentelemetry_exporter_otlp_proto_http-1.31.1-py3-none-any.whl.metadata (2.4 kB)\n",
            "Requirement already satisfied: googleapis-common-protos~=1.52 in /usr/local/lib/python3.11/dist-packages (from opentelemetry-exporter-otlp-proto-grpc==1.31.1->opentelemetry-exporter-otlp<2.0.0,>=1.31.0->patronus) (1.69.2)\n",
            "Requirement already satisfied: grpcio<2.0.0,>=1.63.2 in /usr/local/lib/python3.11/dist-packages (from opentelemetry-exporter-otlp-proto-grpc==1.31.1->opentelemetry-exporter-otlp<2.0.0,>=1.31.0->patronus) (1.71.0)\n",
            "Collecting opentelemetry-exporter-otlp-proto-common==1.31.1 (from opentelemetry-exporter-otlp-proto-grpc==1.31.1->opentelemetry-exporter-otlp<2.0.0,>=1.31.0->patronus)\n",
            "  Downloading opentelemetry_exporter_otlp_proto_common-1.31.1-py3-none-any.whl.metadata (1.9 kB)\n",
            "Collecting opentelemetry-proto==1.31.1 (from opentelemetry-exporter-otlp-proto-grpc==1.31.1->opentelemetry-exporter-otlp<2.0.0,>=1.31.0->patronus)\n",
            "  Downloading opentelemetry_proto-1.31.1-py3-none-any.whl.metadata (2.4 kB)\n",
            "Requirement already satisfied: requests~=2.7 in /usr/local/lib/python3.11/dist-packages (from opentelemetry-exporter-otlp-proto-http==1.31.1->opentelemetry-exporter-otlp<2.0.0,>=1.31.0->patronus) (2.32.3)\n",
            "Requirement already satisfied: protobuf<6.0,>=5.0 in /usr/local/lib/python3.11/dist-packages (from opentelemetry-proto==1.31.1->opentelemetry-exporter-otlp-proto-grpc==1.31.1->opentelemetry-exporter-otlp<2.0.0,>=1.31.0->patronus) (5.29.4)\n",
            "Requirement already satisfied: opentelemetry-semantic-conventions==0.52b1 in /usr/local/lib/python3.11/dist-packages (from opentelemetry-sdk<2.0.0,>=1.31.0->patronus) (0.52b1)\n",
            "Requirement already satisfied: annotated-types>=0.6.0 in /usr/local/lib/python3.11/dist-packages (from pydantic<3.0.0,>=2.8.2->patronus) (0.7.0)\n",
            "Requirement already satisfied: pydantic-core==2.33.0 in /usr/local/lib/python3.11/dist-packages (from pydantic<3.0.0,>=2.8.2->patronus) (2.33.0)\n",
            "Requirement already satisfied: typing-inspection>=0.4.0 in /usr/local/lib/python3.11/dist-packages (from pydantic<3.0.0,>=2.8.2->patronus) (0.4.0)\n",
            "Collecting python-dotenv>=0.21.0 (from pydantic-settings<3.0.0,>=2.4.0->patronus)\n",
            "  Downloading python_dotenv-1.1.0-py3-none-any.whl.metadata (24 kB)\n",
            "Requirement already satisfied: wrapt<2,>=1.10 in /usr/local/lib/python3.11/dist-packages (from deprecated>=1.2.6->opentelemetry-api<2.0.0,>=1.31.0->patronus) (1.17.2)\n",
            "Requirement already satisfied: zipp>=3.20 in /usr/local/lib/python3.11/dist-packages (from importlib-metadata<8.7.0,>=6.0->opentelemetry-api<2.0.0,>=1.31.0->patronus) (3.21.0)\n",
            "Requirement already satisfied: charset-normalizer<4,>=2 in /usr/local/lib/python3.11/dist-packages (from requests~=2.7->opentelemetry-exporter-otlp-proto-http==1.31.1->opentelemetry-exporter-otlp<2.0.0,>=1.31.0->patronus) (3.4.1)\n",
            "Requirement already satisfied: urllib3<3,>=1.21.1 in /usr/local/lib/python3.11/dist-packages (from requests~=2.7->opentelemetry-exporter-otlp-proto-http==1.31.1->opentelemetry-exporter-otlp<2.0.0,>=1.31.0->patronus) (2.3.0)\n",
            "Downloading patronus-0.1.3-py3-none-any.whl (63 kB)\n",
            "\u001b[2K   \u001b[90m━━━━━━━━━━━━━━━━━━━━━━━━━━━━━━━━━━━━━━━━\u001b[0m \u001b[32m63.9/63.9 kB\u001b[0m \u001b[31m3.4 MB/s\u001b[0m eta \u001b[36m0:00:00\u001b[0m\n",
            "\u001b[?25hDownloading httpx-0.27.2-py3-none-any.whl (76 kB)\n",
            "\u001b[2K   \u001b[90m━━━━━━━━━━━━━━━━━━━━━━━━━━━━━━━━━━━━━━━━\u001b[0m \u001b[32m76.4/76.4 kB\u001b[0m \u001b[31m6.9 MB/s\u001b[0m eta \u001b[36m0:00:00\u001b[0m\n",
            "\u001b[?25hDownloading opentelemetry_exporter_otlp-1.31.1-py3-none-any.whl (7.0 kB)\n",
            "Downloading opentelemetry_exporter_otlp_proto_grpc-1.31.1-py3-none-any.whl (18 kB)\n",
            "Downloading opentelemetry_exporter_otlp_proto_http-1.31.1-py3-none-any.whl (17 kB)\n",
            "Downloading opentelemetry_exporter_otlp_proto_common-1.31.1-py3-none-any.whl (18 kB)\n",
            "Downloading opentelemetry_proto-1.31.1-py3-none-any.whl (55 kB)\n",
            "\u001b[2K   \u001b[90m━━━━━━━━━━━━━━━━━━━━━━━━━━━━━━━━━━━━━━━━\u001b[0m \u001b[32m55.9/55.9 kB\u001b[0m \u001b[31m5.2 MB/s\u001b[0m eta \u001b[36m0:00:00\u001b[0m\n",
            "\u001b[?25hDownloading pydantic_settings-2.8.1-py3-none-any.whl (30 kB)\n",
            "Downloading python_dotenv-1.1.0-py3-none-any.whl (20 kB)\n",
            "Installing collected packages: python-dotenv, opentelemetry-proto, opentelemetry-exporter-otlp-proto-common, httpx, pydantic-settings, opentelemetry-exporter-otlp-proto-http, opentelemetry-exporter-otlp-proto-grpc, opentelemetry-exporter-otlp, patronus\n",
            "  Attempting uninstall: httpx\n",
            "    Found existing installation: httpx 0.28.1\n",
            "    Uninstalling httpx-0.28.1:\n",
            "      Successfully uninstalled httpx-0.28.1\n",
            "\u001b[31mERROR: pip's dependency resolver does not currently take into account all the packages that are installed. This behaviour is the source of the following dependency conflicts.\n",
            "google-genai 1.8.0 requires httpx<1.0.0,>=0.28.1, but you have httpx 0.27.2 which is incompatible.\u001b[0m\u001b[31m\n",
            "\u001b[0mSuccessfully installed httpx-0.27.2 opentelemetry-exporter-otlp-1.31.1 opentelemetry-exporter-otlp-proto-common-1.31.1 opentelemetry-exporter-otlp-proto-grpc-1.31.1 opentelemetry-exporter-otlp-proto-http-1.31.1 opentelemetry-proto-1.31.1 patronus-0.1.3 pydantic-settings-2.8.1 python-dotenv-1.1.0\n"
          ]
        }
      ]
    },
    {
      "cell_type": "code",
      "source": [
        "import patronus\n",
        "PATRONUS_API_KEY = userdata.get('PATRONUS_API_KEY')"
      ],
      "metadata": {
        "collapsed": true,
        "id": "FFSA_7wusbvu"
      },
      "execution_count": 24,
      "outputs": []
    },
    {
      "cell_type": "code",
      "source": [
        "patronus.init(\n",
        "    api_key=PATRONUS_API_KEY,\n",
        ")\n",
        "\n",
        "# Create a simple tracer\n",
        "@patronus.traced()\n",
        "def test_function():\n",
        "    return \"Installation successful!\"\n",
        "\n",
        "# Call the function to test tracing\n",
        "result = test_function()\n",
        "print(result)"
      ],
      "metadata": {
        "colab": {
          "base_uri": "https://localhost:8080/"
        },
        "id": "gQDozCZMyhp6",
        "outputId": "42c0a31b-19df-4b3b-f44b-5b03c5296dae"
      },
      "execution_count": 25,
      "outputs": [
        {
          "output_type": "stream",
          "name": "stdout",
          "text": [
            "Installation successful!\n"
          ]
        },
        {
          "output_type": "stream",
          "name": "stderr",
          "text": [
            "<ipython-input-25-f4a82cab90c6>:1: UserWarning: The Patronus SDK has already been initialized. Duplicate initialization attempts are ignored.\n",
            "  patronus.init(\n"
          ]
        }
      ]
    },
    {
      "cell_type": "code",
      "source": [
        "# dataset download link: https://github.com/reddzzz/DataScience_FP/blob/main/dataset.xlsx\n",
        "summaries = pd.read_excel(r'/content/summary_datasets.xlsx')\n",
        "summaries.head()"
      ],
      "metadata": {
        "colab": {
          "base_uri": "https://localhost:8080/",
          "height": 310
        },
        "id": "kGRnhMPRkiUa",
        "outputId": "3d1d686b-f765-4808-b61e-4193f2a1b151"
      },
      "execution_count": 26,
      "outputs": [
        {
          "output_type": "execute_result",
          "data": {
            "text/plain": [
              "   Unnamed: 0     id                                      human_summary  \\\n",
              "0           0  17283  In successfully seeking a temporary halt in th...   \n",
              "1           0  17284  Officers put her in worse danger some months l...   \n",
              "2           0  17285  The film striking appearance had been created ...   \n",
              "3           0  17286  The year was only days old when the news came ...   \n",
              "4           0  17287  If North Korea conducts a test in coming month...   \n",
              "\n",
              "      publication                         author        date    year month  \\\n",
              "0  New York Times                     Carl Hulse  2016-12-31  2016.0  12.0   \n",
              "1  New York Times  Benjamin Mueller and Al Baker  2017-06-19  2017.0   6.0   \n",
              "2  New York Times                   Margalit Fox  2017-01-06  2017.0   1.0   \n",
              "3  New York Times               William McDonald  2017-04-10  2017.0   4.0   \n",
              "4  New York Times                  Choe Sang-Hun  2017-01-02  2017.0   1.0   \n",
              "\n",
              "           theme                                            content  \n",
              "0       politics  WASHINGTON  —   Congressional Republicans have...  \n",
              "1          crime  After the bullet shells get counted, the blood...  \n",
              "2  entertainment  When Walt Disney’s “Bambi” opened in 1942, cri...  \n",
              "3  entertainment  Death may be the great equalizer, but it isn’t...  \n",
              "4       politics  SEOUL, South Korea  —   North Korea’s leader, ...  "
            ],
            "text/html": [
              "\n",
              "  <div id=\"df-b99c5c41-f053-4632-9efe-611375ad1c59\" class=\"colab-df-container\">\n",
              "    <div>\n",
              "<style scoped>\n",
              "    .dataframe tbody tr th:only-of-type {\n",
              "        vertical-align: middle;\n",
              "    }\n",
              "\n",
              "    .dataframe tbody tr th {\n",
              "        vertical-align: top;\n",
              "    }\n",
              "\n",
              "    .dataframe thead th {\n",
              "        text-align: right;\n",
              "    }\n",
              "</style>\n",
              "<table border=\"1\" class=\"dataframe\">\n",
              "  <thead>\n",
              "    <tr style=\"text-align: right;\">\n",
              "      <th></th>\n",
              "      <th>Unnamed: 0</th>\n",
              "      <th>id</th>\n",
              "      <th>human_summary</th>\n",
              "      <th>publication</th>\n",
              "      <th>author</th>\n",
              "      <th>date</th>\n",
              "      <th>year</th>\n",
              "      <th>month</th>\n",
              "      <th>theme</th>\n",
              "      <th>content</th>\n",
              "    </tr>\n",
              "  </thead>\n",
              "  <tbody>\n",
              "    <tr>\n",
              "      <th>0</th>\n",
              "      <td>0</td>\n",
              "      <td>17283</td>\n",
              "      <td>In successfully seeking a temporary halt in th...</td>\n",
              "      <td>New York Times</td>\n",
              "      <td>Carl Hulse</td>\n",
              "      <td>2016-12-31</td>\n",
              "      <td>2016.0</td>\n",
              "      <td>12.0</td>\n",
              "      <td>politics</td>\n",
              "      <td>WASHINGTON  —   Congressional Republicans have...</td>\n",
              "    </tr>\n",
              "    <tr>\n",
              "      <th>1</th>\n",
              "      <td>0</td>\n",
              "      <td>17284</td>\n",
              "      <td>Officers put her in worse danger some months l...</td>\n",
              "      <td>New York Times</td>\n",
              "      <td>Benjamin Mueller and Al Baker</td>\n",
              "      <td>2017-06-19</td>\n",
              "      <td>2017.0</td>\n",
              "      <td>6.0</td>\n",
              "      <td>crime</td>\n",
              "      <td>After the bullet shells get counted, the blood...</td>\n",
              "    </tr>\n",
              "    <tr>\n",
              "      <th>2</th>\n",
              "      <td>0</td>\n",
              "      <td>17285</td>\n",
              "      <td>The film striking appearance had been created ...</td>\n",
              "      <td>New York Times</td>\n",
              "      <td>Margalit Fox</td>\n",
              "      <td>2017-01-06</td>\n",
              "      <td>2017.0</td>\n",
              "      <td>1.0</td>\n",
              "      <td>entertainment</td>\n",
              "      <td>When Walt Disney’s “Bambi” opened in 1942, cri...</td>\n",
              "    </tr>\n",
              "    <tr>\n",
              "      <th>3</th>\n",
              "      <td>0</td>\n",
              "      <td>17286</td>\n",
              "      <td>The year was only days old when the news came ...</td>\n",
              "      <td>New York Times</td>\n",
              "      <td>William McDonald</td>\n",
              "      <td>2017-04-10</td>\n",
              "      <td>2017.0</td>\n",
              "      <td>4.0</td>\n",
              "      <td>entertainment</td>\n",
              "      <td>Death may be the great equalizer, but it isn’t...</td>\n",
              "    </tr>\n",
              "    <tr>\n",
              "      <th>4</th>\n",
              "      <td>0</td>\n",
              "      <td>17287</td>\n",
              "      <td>If North Korea conducts a test in coming month...</td>\n",
              "      <td>New York Times</td>\n",
              "      <td>Choe Sang-Hun</td>\n",
              "      <td>2017-01-02</td>\n",
              "      <td>2017.0</td>\n",
              "      <td>1.0</td>\n",
              "      <td>politics</td>\n",
              "      <td>SEOUL, South Korea  —   North Korea’s leader, ...</td>\n",
              "    </tr>\n",
              "  </tbody>\n",
              "</table>\n",
              "</div>\n",
              "    <div class=\"colab-df-buttons\">\n",
              "\n",
              "  <div class=\"colab-df-container\">\n",
              "    <button class=\"colab-df-convert\" onclick=\"convertToInteractive('df-b99c5c41-f053-4632-9efe-611375ad1c59')\"\n",
              "            title=\"Convert this dataframe to an interactive table.\"\n",
              "            style=\"display:none;\">\n",
              "\n",
              "  <svg xmlns=\"http://www.w3.org/2000/svg\" height=\"24px\" viewBox=\"0 -960 960 960\">\n",
              "    <path d=\"M120-120v-720h720v720H120Zm60-500h600v-160H180v160Zm220 220h160v-160H400v160Zm0 220h160v-160H400v160ZM180-400h160v-160H180v160Zm440 0h160v-160H620v160ZM180-180h160v-160H180v160Zm440 0h160v-160H620v160Z\"/>\n",
              "  </svg>\n",
              "    </button>\n",
              "\n",
              "  <style>\n",
              "    .colab-df-container {\n",
              "      display:flex;\n",
              "      gap: 12px;\n",
              "    }\n",
              "\n",
              "    .colab-df-convert {\n",
              "      background-color: #E8F0FE;\n",
              "      border: none;\n",
              "      border-radius: 50%;\n",
              "      cursor: pointer;\n",
              "      display: none;\n",
              "      fill: #1967D2;\n",
              "      height: 32px;\n",
              "      padding: 0 0 0 0;\n",
              "      width: 32px;\n",
              "    }\n",
              "\n",
              "    .colab-df-convert:hover {\n",
              "      background-color: #E2EBFA;\n",
              "      box-shadow: 0px 1px 2px rgba(60, 64, 67, 0.3), 0px 1px 3px 1px rgba(60, 64, 67, 0.15);\n",
              "      fill: #174EA6;\n",
              "    }\n",
              "\n",
              "    .colab-df-buttons div {\n",
              "      margin-bottom: 4px;\n",
              "    }\n",
              "\n",
              "    [theme=dark] .colab-df-convert {\n",
              "      background-color: #3B4455;\n",
              "      fill: #D2E3FC;\n",
              "    }\n",
              "\n",
              "    [theme=dark] .colab-df-convert:hover {\n",
              "      background-color: #434B5C;\n",
              "      box-shadow: 0px 1px 3px 1px rgba(0, 0, 0, 0.15);\n",
              "      filter: drop-shadow(0px 1px 2px rgba(0, 0, 0, 0.3));\n",
              "      fill: #FFFFFF;\n",
              "    }\n",
              "  </style>\n",
              "\n",
              "    <script>\n",
              "      const buttonEl =\n",
              "        document.querySelector('#df-b99c5c41-f053-4632-9efe-611375ad1c59 button.colab-df-convert');\n",
              "      buttonEl.style.display =\n",
              "        google.colab.kernel.accessAllowed ? 'block' : 'none';\n",
              "\n",
              "      async function convertToInteractive(key) {\n",
              "        const element = document.querySelector('#df-b99c5c41-f053-4632-9efe-611375ad1c59');\n",
              "        const dataTable =\n",
              "          await google.colab.kernel.invokeFunction('convertToInteractive',\n",
              "                                                    [key], {});\n",
              "        if (!dataTable) return;\n",
              "\n",
              "        const docLinkHtml = 'Like what you see? Visit the ' +\n",
              "          '<a target=\"_blank\" href=https://colab.research.google.com/notebooks/data_table.ipynb>data table notebook</a>'\n",
              "          + ' to learn more about interactive tables.';\n",
              "        element.innerHTML = '';\n",
              "        dataTable['output_type'] = 'display_data';\n",
              "        await google.colab.output.renderOutput(dataTable, element);\n",
              "        const docLink = document.createElement('div');\n",
              "        docLink.innerHTML = docLinkHtml;\n",
              "        element.appendChild(docLink);\n",
              "      }\n",
              "    </script>\n",
              "  </div>\n",
              "\n",
              "\n",
              "<div id=\"df-8c220f54-79f1-4d47-b65c-05c65b0b601b\">\n",
              "  <button class=\"colab-df-quickchart\" onclick=\"quickchart('df-8c220f54-79f1-4d47-b65c-05c65b0b601b')\"\n",
              "            title=\"Suggest charts\"\n",
              "            style=\"display:none;\">\n",
              "\n",
              "<svg xmlns=\"http://www.w3.org/2000/svg\" height=\"24px\"viewBox=\"0 0 24 24\"\n",
              "     width=\"24px\">\n",
              "    <g>\n",
              "        <path d=\"M19 3H5c-1.1 0-2 .9-2 2v14c0 1.1.9 2 2 2h14c1.1 0 2-.9 2-2V5c0-1.1-.9-2-2-2zM9 17H7v-7h2v7zm4 0h-2V7h2v10zm4 0h-2v-4h2v4z\"/>\n",
              "    </g>\n",
              "</svg>\n",
              "  </button>\n",
              "\n",
              "<style>\n",
              "  .colab-df-quickchart {\n",
              "      --bg-color: #E8F0FE;\n",
              "      --fill-color: #1967D2;\n",
              "      --hover-bg-color: #E2EBFA;\n",
              "      --hover-fill-color: #174EA6;\n",
              "      --disabled-fill-color: #AAA;\n",
              "      --disabled-bg-color: #DDD;\n",
              "  }\n",
              "\n",
              "  [theme=dark] .colab-df-quickchart {\n",
              "      --bg-color: #3B4455;\n",
              "      --fill-color: #D2E3FC;\n",
              "      --hover-bg-color: #434B5C;\n",
              "      --hover-fill-color: #FFFFFF;\n",
              "      --disabled-bg-color: #3B4455;\n",
              "      --disabled-fill-color: #666;\n",
              "  }\n",
              "\n",
              "  .colab-df-quickchart {\n",
              "    background-color: var(--bg-color);\n",
              "    border: none;\n",
              "    border-radius: 50%;\n",
              "    cursor: pointer;\n",
              "    display: none;\n",
              "    fill: var(--fill-color);\n",
              "    height: 32px;\n",
              "    padding: 0;\n",
              "    width: 32px;\n",
              "  }\n",
              "\n",
              "  .colab-df-quickchart:hover {\n",
              "    background-color: var(--hover-bg-color);\n",
              "    box-shadow: 0 1px 2px rgba(60, 64, 67, 0.3), 0 1px 3px 1px rgba(60, 64, 67, 0.15);\n",
              "    fill: var(--button-hover-fill-color);\n",
              "  }\n",
              "\n",
              "  .colab-df-quickchart-complete:disabled,\n",
              "  .colab-df-quickchart-complete:disabled:hover {\n",
              "    background-color: var(--disabled-bg-color);\n",
              "    fill: var(--disabled-fill-color);\n",
              "    box-shadow: none;\n",
              "  }\n",
              "\n",
              "  .colab-df-spinner {\n",
              "    border: 2px solid var(--fill-color);\n",
              "    border-color: transparent;\n",
              "    border-bottom-color: var(--fill-color);\n",
              "    animation:\n",
              "      spin 1s steps(1) infinite;\n",
              "  }\n",
              "\n",
              "  @keyframes spin {\n",
              "    0% {\n",
              "      border-color: transparent;\n",
              "      border-bottom-color: var(--fill-color);\n",
              "      border-left-color: var(--fill-color);\n",
              "    }\n",
              "    20% {\n",
              "      border-color: transparent;\n",
              "      border-left-color: var(--fill-color);\n",
              "      border-top-color: var(--fill-color);\n",
              "    }\n",
              "    30% {\n",
              "      border-color: transparent;\n",
              "      border-left-color: var(--fill-color);\n",
              "      border-top-color: var(--fill-color);\n",
              "      border-right-color: var(--fill-color);\n",
              "    }\n",
              "    40% {\n",
              "      border-color: transparent;\n",
              "      border-right-color: var(--fill-color);\n",
              "      border-top-color: var(--fill-color);\n",
              "    }\n",
              "    60% {\n",
              "      border-color: transparent;\n",
              "      border-right-color: var(--fill-color);\n",
              "    }\n",
              "    80% {\n",
              "      border-color: transparent;\n",
              "      border-right-color: var(--fill-color);\n",
              "      border-bottom-color: var(--fill-color);\n",
              "    }\n",
              "    90% {\n",
              "      border-color: transparent;\n",
              "      border-bottom-color: var(--fill-color);\n",
              "    }\n",
              "  }\n",
              "</style>\n",
              "\n",
              "  <script>\n",
              "    async function quickchart(key) {\n",
              "      const quickchartButtonEl =\n",
              "        document.querySelector('#' + key + ' button');\n",
              "      quickchartButtonEl.disabled = true;  // To prevent multiple clicks.\n",
              "      quickchartButtonEl.classList.add('colab-df-spinner');\n",
              "      try {\n",
              "        const charts = await google.colab.kernel.invokeFunction(\n",
              "            'suggestCharts', [key], {});\n",
              "      } catch (error) {\n",
              "        console.error('Error during call to suggestCharts:', error);\n",
              "      }\n",
              "      quickchartButtonEl.classList.remove('colab-df-spinner');\n",
              "      quickchartButtonEl.classList.add('colab-df-quickchart-complete');\n",
              "    }\n",
              "    (() => {\n",
              "      let quickchartButtonEl =\n",
              "        document.querySelector('#df-8c220f54-79f1-4d47-b65c-05c65b0b601b button');\n",
              "      quickchartButtonEl.style.display =\n",
              "        google.colab.kernel.accessAllowed ? 'block' : 'none';\n",
              "    })();\n",
              "  </script>\n",
              "</div>\n",
              "\n",
              "    </div>\n",
              "  </div>\n"
            ],
            "application/vnd.google.colaboratory.intrinsic+json": {
              "type": "dataframe",
              "variable_name": "summaries",
              "summary": "{\n  \"name\": \"summaries\",\n  \"rows\": 1000,\n  \"fields\": [\n    {\n      \"column\": \"Unnamed: 0\",\n      \"properties\": {\n        \"dtype\": \"number\",\n        \"std\": 111,\n        \"min\": 0,\n        \"max\": 259,\n        \"num_unique_values\": 2,\n        \"samples\": [\n          259,\n          0\n        ],\n        \"semantic_type\": \"\",\n        \"description\": \"\"\n      }\n    },\n    {\n      \"column\": \"id\",\n      \"properties\": {\n        \"dtype\": \"number\",\n        \"std\": 341,\n        \"min\": 17283,\n        \"max\": 18465,\n        \"num_unique_values\": 1000,\n        \"samples\": [\n          17904,\n          18166\n        ],\n        \"semantic_type\": \"\",\n        \"description\": \"\"\n      }\n    },\n    {\n      \"column\": \"human_summary\",\n      \"properties\": {\n        \"dtype\": \"string\",\n        \"num_unique_values\": 994,\n        \"samples\": [\n          \"or that they aren\\u2019t aware of the symbolic value of dress especially when it comes to a first lady who prefers to let her clothes do the talking.she is more excited than ever to make a platform for american designers as she did on one of the most important weeks in history the inauguration showcasing the extraordinary talents of american designers.perhaps her clothes are a part of that and thus the point was simply to look elegant and not to bother with more complicated billboarding.the choice of the red dress which made for a compelling visual next to president trump red tie as the two walked together along the tarmac was consciously symbolic according to stephanie winston wolkoff mrs. trump senior adviser who said it was in honor of national wear red day which is to highlight the importance and raise awareness about heart disease.does it matter on one hand mrs. trump has been explicit about her desire to eschew at least for the moment the washington spotlight.\",\n          \"But unlike with cabinet nominees, Democrats could still employ a filibuster against a Supreme Court pick, because the high court was excluded from a 2013 change engineered by Democrats to thwart filibusters against nominees.\\n\\nIf Democrats hold out, Senator Mitch McConnell of Kentucky, the majority leader, will no doubt come under pressure to wipe out the possibility of filibuster against Supreme Court nominees.\\n\\n\\u201cThere\\u2019s a big difference between not approving a Supreme Court nominee in the middle of a highly contested presidential election, and the beginning of a term,\\u201d Mr. McConnell said on Tuesday, noting that Republicans did not filibuster Supreme Court nominees in the first term of either President Bill Clinton or Mr. Obama.\\n\\nMany Republicans and their conservative allies would prefer not to abolish the filibuster on Supreme Court nominees, knowing that it could come back to haunt them by allowing a future Democratic majority a free hand \\u2014 essentially the same reason Democrats left high court nominees out of the 2013 change.\\n\\n\\u201d Democrats say that one result of the stalemate over Judge Garland is that it has shown that the Supreme Court can function, though imperfectly, without a full complement of nine members, relieving the party of some guilt for keeping the court if it comes to that over a Trump nominee.\"\n        ],\n        \"semantic_type\": \"\",\n        \"description\": \"\"\n      }\n    },\n    {\n      \"column\": \"publication\",\n      \"properties\": {\n        \"dtype\": \"category\",\n        \"num_unique_values\": 2,\n        \"samples\": [\n          \"AMSTERDAM \\u2014 Pedram Paragomi, a Iranian medical student, was excited about his first trip to the United States.\\n\\nMr. Paragomi and six other Iranians remained stranded at Schiphol Airport outside Amsterdam on Tuesday, as their travel ordeal stretched into its fourth day.\\n\\nThe largely spontaneous and spirited protests at American airports over the weekend focused on several aspects of Mr. Trump\\u2019s order, including a ban on all refugees, an indefinite ban on Syrian refugees and an attempt \\u2014 later blocked by judges \\u2014 to deport people with valid visas or refugee status who had already arrived in the United States.\\n\\nThe seven Iranians stuck in Amsterdam were pulled aside on Saturday by United States agents stationed at the airport.\\n\\nOne man in the group went to pray at the airport\\u2019s meditation center, where he met an airport official who introduced the group to a Dutch pastor who offered to help.\",\n          \"New York Times\"\n        ],\n        \"semantic_type\": \"\",\n        \"description\": \"\"\n      }\n    },\n    {\n      \"column\": \"author\",\n      \"properties\": {\n        \"dtype\": \"string\",\n        \"num_unique_values\": 579,\n        \"samples\": [\n          \"Daniel E. Slotnik\",\n          \"Tamar Adler\"\n        ],\n        \"semantic_type\": \"\",\n        \"description\": \"\"\n      }\n    },\n    {\n      \"column\": \"date\",\n      \"properties\": {\n        \"dtype\": \"category\",\n        \"num_unique_values\": 79,\n        \"samples\": [\n          \"2017-03-11\",\n          \"2016-12-31\"\n        ],\n        \"semantic_type\": \"\",\n        \"description\": \"\"\n      }\n    },\n    {\n      \"column\": \"year\",\n      \"properties\": {\n        \"dtype\": \"category\",\n        \"num_unique_values\": 3,\n        \"samples\": [\n          \"2016.0\",\n          \"2017.0\"\n        ],\n        \"semantic_type\": \"\",\n        \"description\": \"\"\n      }\n    },\n    {\n      \"column\": \"month\",\n      \"properties\": {\n        \"dtype\": \"category\",\n        \"num_unique_values\": 8,\n        \"samples\": [\n          \"6.0\",\n          \"2.0\"\n        ],\n        \"semantic_type\": \"\",\n        \"description\": \"\"\n      }\n    },\n    {\n      \"column\": \"theme\",\n      \"properties\": {\n        \"dtype\": \"category\",\n        \"num_unique_values\": 14,\n        \"samples\": [\n          \"lifestyle\",\n          \"law\"\n        ],\n        \"semantic_type\": \"\",\n        \"description\": \"\"\n      }\n    },\n    {\n      \"column\": \"content\",\n      \"properties\": {\n        \"dtype\": \"string\",\n        \"num_unique_values\": 995,\n        \"samples\": [\n          \"That was fast. Two weeks after her \\u201cAmerica First\\u201d fashion statement at the inauguration, Melania Trump emerged last weekend from the relative seclusion of her life in New York to join her husband at     a. k. a. the winter White   golf club in Florida. And as far as her sartorial language went, America was  \\u2014   well, pretty much last. On Friday, greeting the president as he disembarked from Air Force One in Palm Beach, the first lady wore a short red Givenchy cape dress. On Saturday, at a Red Cross ball, she wore a long   gown from Christian Dior (both brands connected, by the way, to LVMH Mo\\u00ebt Hennessy Louis Vuitton, the French luxury conglomerate led by Bernard Arnault, the only foreign luxury mogul to have made a postelection pilgrimage to Trump Tower). But on Sunday, for a Super Bowl party at Trump International Golf Club, she wore leather pants from the Row, the brand of   Olsen and Ashley Olsen, and a thin knit sweater by Derek Lam, both names at New York Fashion Week. Does it matter? On one hand, Mrs. Trump has been explicit about her desire to eschew, at least for the moment, the Washington spotlight. Perhaps her clothes are a part of that, and thus the point was simply to look elegant and not to bother with more complicated billboarding. If so, she achieved that aim. However, Mrs. Trump has also said that she intends to meaningfully inhabit the role of first lady, and certainly this appearance was part of that goal. The choice of the red dress  \\u2014   which made for a compelling visual next to President Trump\\u2019s red tie as the two walked together along the tarmac  \\u2014   was consciously symbolic, according to Stephanie Winston Wolkoff, Mrs. Trump\\u2019s senior adviser, who said it was in honor of \\u201cNational Wear Red Day, which is to highlight the importance and raise awareness about heart disease. \\u201d So it\\u2019s not like they haven\\u2019t been thinking this through. Or that they aren\\u2019t aware of the symbolic value of dress, especially when it comes to a first lady who prefers to let her clothes do the talking. If so, there is a contradiction implicit in her choices of clothing, given her husband\\u2019s promise in his Inaugural Address that \\u201cBuy American\\u201d would be a tenet of his administration. But the    dress requirement for first ladies, historically held dear, was largely taken off the table during the Obama administration and transformed into a vehicle for   outreach. It was Mr. Trump who made it an issue again, and in a forum arguably more public, and permanent, than Twitter. When asked about the issue, Ms. Winston Wolkoff emailed the following statement: \\u201cMrs. Trump is a proud and longtime supporter of American fashion. She appreciates fashion as art. As a former model, she has always been a patron of the world\\u2019s most distinguished designers both here and abroad. Mrs. Trump buys from an international mix of brands because that is what reflects her uniquely American life experience and style. She is more excited than ever to make a platform for American designers as she did on one of the most important weeks in history, the Inauguration, showcasing the extraordinary talents of American designers. \\u201d In other words: Buying European is a reflection of the American shopping experience. For anyone who has walked down any main shopping street in a big American city  \\u2014   such as Fifth Avenue in New York, where Mrs. Trump lives  \\u2014   it\\u2019s hard to argue with that. Though it also seems like something of a contorted rationale, and one that could be exploited by companies seeking to relocate some factories overseas. That choice is, after all, also a part of the American industrial story. In any case, it\\u2019s worth noting that Givenchy and Dior have been playing possum since the weekend, another indication of fashion\\u2019s   relationship with Mrs. Trump. Neither fashion house issued the de rigueur news release trumpeting the first lady\\u2019s appearance in one of their dresses. Asked whether the brand had worked with the first lady on the red dress, a spokesman for Givenchy said that the company had no comment and that the dress had been purchased from a store, without any interpersonal discussion. (It is for sale on the Neiman Marcus website, among others, for $2, 095.) Dior simply did not respond. As for Mr. Lam, who in November told the fashion magazine WWD, \\u201cI really don\\u2019t see myself getting involved with the Trump presidency,\\u201d the situation pretty much shows the problem with that stance. After all, the first lady is free to buy his product, whether he wants to get involved or not. Which is another American story, of sorts.\",\n          \"Good morning.  Here\\u2019s what you need to know: \\u2022 President Trump is expected to order the construction of a Mexican border wall today and slash immigration of refugees from \\u201cterror prone\\u201d nations, White House officials said. He pressed automakers to increase jobs in the U. S. but a new forecast of a federal budget deficit that could expand to almost $10 trillion over 10 years could complicate his agenda to cut taxes and ramp up spending. Mr. Trump also revived two pipelines blocked under President Obama: the Keystone XL pipeline, the focus of years of debate over energy needs and climate change and the Dakota Access pipeline, the target of Native American protests. _____ \\u2022 And tensions are rising between the U. S. and China. Beijing, after a challenge from a Trump spokesman, insisted it had \\u201cirrefutable\\u201d sovereignty over disputed islands in the South China Sea. China sees opportunities to extend its global reach with Mr. Trump in power, but it also sees a threat to its prized goal, stability. _____ \\u2022 Israel, discarding diplomatic restraint just a few days into the Trump administration, approved the construction of 2, 500 housing units for Jews in West Bank settlements. A month ago, the Obama administration declined to veto a Security Council resolution condemning the settlements, and last week, a gathering of world leaders warned Israel to stop expanding them. _____ \\u2022 The office of Prime Minister Theresa May pledged to stay on its timetable for taking Britain out of the European Union despite a top court ruling requiring the approval of Parliament before the process can begin. Political observers said it was unlikely that legislators, despite being largely opposed to Brexit, would try to block the will of the voters. _____ \\u2022 Three months after Prime Minister Narendra Modi abruptly banned 86 percent of India\\u2019s currency in a bid to fight \\u201cblack money\\u201d  \\u2014   hidden reserves that feed corruption  \\u2014   unemployment is spreading, and some people are going without fruit, vegetables and milk. \\u201cThis has actually hurt the poor enormously,\\u201d one business leader said. Above, a protest over cash shortages last week. _____ \\u2022 And this year\\u2019s Oscar nominations are out. Voters gave \\u201cLa La Land\\u201d 14 nominations, a tie for the most in Academy Award history. The academy also honored six black actors  \\u2014   a record. Here is the full list of nominees. _____ \\u2022 The Alibaba Group beat estimates with strong   earnings. The results showed how much the   giant  \\u2014   despite a growing global profile and its record I. P. O. on Wall Street  \\u2014   is still dependent on China. \\u2022 Silver Lake, an investment firm, is leading a $1. 1 billion investment in Koubei, an   business that is part of what is increasingly known as the    sector, or O2O. \\u2022 President Trump\\u2019s pick for the Federal Communications Commission, Ajit Pai, an   from Kansas, is expected to roll back rules that ban internet service providers from favoring certain websites and apps. \\u2022 Nearly 470 million Chinese citizens used their mobile phones to make payments last year, an increase of 31 percent from 2015, new government data shows. \\u2022 Japan releases data on its imports and exports for December. The country\\u2019s   economy has been struggling despite government efforts at stimulus. \\u2022 South Korea and Taiwan release G. D. P. figures. \\u2022 Wall Street was up. Here\\u2019s a snapshot of global markets. \\u2022 China\\u2019s 816 nuclear plant, begun in the 1960s, was one of the country\\u2019s most ambitious military projects. Today, the   mountain has been reborn as a tourist attraction. [The New York Times] \\u2022 Peter Thiel, the American billionaire, has taken New Zealand citizenship and quietly acquired a sprawling estate on Lake Wanaka. [New Zealand Herald] \\u2022 Afghanistan ordered the arrest of nine bodyguards of Gen. Abdul Rashid Dostum, the more senior of the country\\u2019s two vice presidents, on accusations of the rape and torture of an Uzbek elder. [The New York Times] \\u2022 A wave of smog is forecast to engulf four northern Chinese provinces as the Lunar New Year approaches. [Reuters] \\u2022 Talks in Astana, Kazakhstan, may have done more to to firm up Russia\\u2019s growing role in diplomacy over Syria than to create any progress toward peace. [The New York Times] \\u2022 A proposal to ban the display of Vietnam\\u2019s flag on city poles has divided the Vietnamese community of San Jose, Calif. [The Mercury News] \\u2022 Gambia\\u2019s former president, Yahya Jammeh, didn\\u2019t go into exile in Equatorial Guinea  : He left with two   a   and a plane full of luxury items. [The New York Times] \\u2022 China\\u2019s government has shut down 111 of the country\\u2019s 683 golf courses since 2011, citing illegal land or water use. [Xinhua] \\u2022 Scientists found the fossils of a huge, nearly    otter that roamed rivers and lakes in southwestern China about 6. 2 million years ago. [Reuters] \\u2022 Doing just 12 minutes of yoga can improve your bone health. \\u2022 Vacations don\\u2019t have to be all about relaxing: Here\\u2019s how to plan one with some good deeds along the way. \\u2022 Recipe of the day: Try this grilled cheese sandwich featuring mayonnaise for some midweek comfort food. \\u2022 In China, members of the Tanka people have survived on southern coastal waterways, and on the margins of society, since ancient times. As big cities spread, their floating way of life is disappearing. \\u2022 Genetic research is taking some truly   turns. Ant researchers have identified the molecular and neural cues that help explain social behaviors, including caring for young, breeding  \\u2014   even capturing and   upstarts, like tiny police officers. \\u2022 And a pioneering scientist, Maria Sibylla Merian, captivated Europeans 300 years ago with her studies of insects. Now, her findings are being celebrated again. Grandstands filled with cheering fans, perfectly plated vegetables, and your country\\u2019s name on the line  \\u2014   this isn\\u2019t your typical cooking competition. This is the Bocuse d\\u2019Or, or the culinary version of the Olympics. The competition, which takes place this week in Lyon, France, was founded by the master French chef Paul Bocuse. He was influential in establishing nouvelle cuisine, which emphasizes ingredients and presentation. At 90, Mr. Bocuse remains a king among chefs. Long before \\u201c  \\u201d became a trendy concept, a    Bocuse was learning how to butcher a cow for his first restaurant job. He eventually joined his father at their family restaurant, L\\u2019Auberge du Pont de Collonges. One year after he took over, the restaurant won a Michelin star. He recalled how early in his career he wowed a prominent food critic with fresh ingredients. Mr. Bocuse served haricots verts picked that morning, lightly boiled and served with olive oil, shallots and salt. In 1966, The Times\\u2019s Craig Claiborne described the restaurant outside of Lyon as \\u201cone of the most elegant and proudest restaurants outside of Paris. \\u201d Mr. Bocuse, though, once offered a less refined assessment of his skills. \\u201cSome men have mistresses,\\u201d Mr. Bocuse once said. \\u201cI run a luxury restaurant. \\u201d Remy Tumin contributed reporting. _____ Your Morning Briefing is published weekday mornings. What would you like to see here? Contact us at asiabriefing@nytimes. com.\"\n        ],\n        \"semantic_type\": \"\",\n        \"description\": \"\"\n      }\n    }\n  ]\n}"
            }
          },
          "metadata": {},
          "execution_count": 26
        }
      ]
    },
    {
      "cell_type": "code",
      "source": [
        "content = summaries[\"content\"].iloc[10]\n",
        "summary = summaries[\"human_summary\"].iloc[10]\n",
        "summary"
      ],
      "metadata": {
        "id": "LgF3gpidlCzP",
        "colab": {
          "base_uri": "https://localhost:8080/",
          "height": 145
        },
        "outputId": "42fccfef-e5a9-4a03-da3f-8c2c46f22f52"
      },
      "execution_count": 27,
      "outputs": [
        {
          "output_type": "execute_result",
          "data": {
            "text/plain": [
              "'How much money you make how much time you spend with your friends and family how well your body functions years from now all of these in many ways are products of the habits you are building today.when you woke up this morning what did you do first did you hop in the shower check your email or grab a doughnut what did you say to your roommates on the way out the door salad or hamburger for lunch when you got home did you put on your sneakers and go for a run or eat dinner in front of the television most of the choices we make each day may feel like the products of decision making but they’re not.if you want to start running each morning it essential that you choose a simple cue and a clear reward .want more you might also like • the scientific workout • no time to workout try exercising on the job • how to pick a health insurance planand though each habit means relatively little on its own over time the meals we eat how we spend our evenings and how often we exercise have enormous impacts.'"
            ],
            "application/vnd.google.colaboratory.intrinsic+json": {
              "type": "string"
            }
          },
          "metadata": {},
          "execution_count": 27
        }
      ]
    },
    {
      "cell_type": "code",
      "source": [
        "system_role = \"You are an expert in text summarization. Summarize the articles like human.\"\n",
        "user_query = f\"\"\"Generate a summary of the following article in 1000 characters:\\n{content}\"\"\"\n",
        "output = generate_response(deepseek_model_client,\n",
        "                           system_role,\n",
        "                           user_query)\n",
        "\n",
        "## only retrieve the response not the thought process\n",
        "response1 = output.strip().split(\"</think>\")[-1].strip()\n",
        "response1"
      ],
      "metadata": {
        "colab": {
          "base_uri": "https://localhost:8080/",
          "height": 257
        },
        "id": "OjKoOq-6jGMs",
        "outputId": "1d45cad5-68ae-4647-aa39-c541a9e1c0f3"
      },
      "execution_count": 28,
      "outputs": [
        {
          "output_type": "stream",
          "name": "stderr",
          "text": [
            "/usr/local/lib/python3.11/dist-packages/huggingface_hub/utils/_auth.py:94: UserWarning: \n",
            "The secret `HF_TOKEN` does not exist in your Colab secrets.\n",
            "To authenticate with the Hugging Face Hub, create a token in your settings tab (https://huggingface.co/settings/tokens), set it as secret in your Google Colab and restart your session.\n",
            "You will be able to reuse this secret in all of your notebooks.\n",
            "Please note that authentication is recommended but still optional to access public models or datasets.\n",
            "  warnings.warn(\n"
          ]
        },
        {
          "output_type": "execute_result",
          "data": {
            "text/plain": [
              "\"The article discusses how daily choices often become habits, significantly impacting long-term health, productivity, and happiness, especially in one's 20s. It explains that habits form through a neurological loop involving a cue, routine, and reward. A study on exercisers found that habits develop due to specific cues and rewards. To create good habits, like exercise, one must establish clear cues (e.g., a specific time) and rewards (e.g., a sense of accomplishment or a treat). Initially, external rewards like chocolate may be needed to train the brain to associate the cue with the routine and inherent reward. Over time, the brain learns to enjoy the natural rewards, making the habit automatic. The article emphasizes understanding habit formation to build positive routines.\""
            ],
            "application/vnd.google.colaboratory.intrinsic+json": {
              "type": "string"
            }
          },
          "metadata": {},
          "execution_count": 28
        }
      ]
    },
    {
      "cell_type": "code",
      "source": [
        "from patronus.evals import RemoteEvaluator\n",
        "\n",
        "def evaluate_summarization_patronus(reference, candidate):\n",
        "\n",
        "  exact_match = RemoteEvaluator(\"exact-match\")\n",
        "  fuzzy_match = RemoteEvaluator(\"judge\",\"patronus:fuzzy-match\")\n",
        "\n",
        "  exact_match_result  = exact_match.evaluate(\n",
        "      task_output=reference,\n",
        "      gold_answer=candidate\n",
        "      )\n",
        "\n",
        "  fuzzy_score_result = fuzzy_match.evaluate(\n",
        "      task_output=reference,\n",
        "      gold_answer=candidate\n",
        "  )\n",
        "\n",
        "  results = {\n",
        "      'Exact Match': exact_match_result,\n",
        "      'Fuzzy Match': fuzzy_score_result\n",
        "  }\n",
        "\n",
        "  return results\n",
        "\n",
        "result_1 = evaluate_summarization_patronus(summary, response1)\n",
        "result_1"
      ],
      "metadata": {
        "colab": {
          "base_uri": "https://localhost:8080/"
        },
        "id": "7pSi8Jnm5R91",
        "outputId": "36de6646-3fc5-4ff9-d74c-154d8aa339b3"
      },
      "execution_count": null,
      "outputs": [
        {
          "output_type": "execute_result",
          "data": {
            "text/plain": [
              "{'Exact Match': EvaluationResult(score=0.0, pass_=False, text_output=None, metadata={'positions': None, 'extra': None, 'confidence_interval': None}, explanation=None, tags={}, dataset_id=None, dataset_sample_id=None, evaluation_duration=datetime.timedelta(0), explanation_duration=datetime.timedelta(0)),\n",
              " 'Fuzzy Match': EvaluationResult(score=1.0, pass_=True, text_output=None, metadata={'positions': [[167, 173], [996, 1002], [516, 523]], 'extra': None, 'confidence_interval': None}, explanation='- The pass criteria requires the output to be similar in meaning to the gold answer.\\n- The gold answer discusses the impact of daily choices becoming habits, the neurological loop of habit formation, and the importance of cues and rewards in forming good habits.\\n- The output also discusses the impact of daily habits on long-term outcomes, the importance of cues and rewards in habit formation, and provides examples of daily choices that become habits.\\n- Both the gold answer and the output emphasize the significance of habits in shaping future outcomes and the process of habit formation.\\n- The output, while not identical, captures the essence of the gold answer by discussing the role of habits, cues, and rewards in shaping long-term outcomes.\\n- Therefore, the output is similar in meaning to the gold answer, fulfilling the pass criteria.', tags={}, dataset_id=None, dataset_sample_id=None, evaluation_duration=datetime.timedelta(seconds=6, microseconds=194000), explanation_duration=datetime.timedelta(0))}"
            ]
          },
          "metadata": {},
          "execution_count": 45
        }
      ]
    },
    {
      "cell_type": "code",
      "source": [
        "for key, value in result_1.items():\n",
        "  print(f\"Results for {key}\")\n",
        "  print(f\"Pass: {value.pass_}\")\n",
        "  print(f\"Score Raw: {value.score}\")\n",
        "  print(f\"Explanation: {value.explanation}\")\n",
        "  print(\"=================================\")"
      ],
      "metadata": {
        "colab": {
          "base_uri": "https://localhost:8080/"
        },
        "id": "fabKZjKH7275",
        "outputId": "b3d2ef79-86cc-477b-fed4-239e07a69323"
      },
      "execution_count": null,
      "outputs": [
        {
          "output_type": "stream",
          "name": "stdout",
          "text": [
            "Results for Exact Match\n",
            "Pass: False\n",
            "Score Raw: 0.0\n",
            "Explanation: None\n",
            "=================================\n",
            "Results for Fuzzy Match\n",
            "Pass: True\n",
            "Score Raw: 1.0\n",
            "Explanation: - The pass criteria requires the output to be similar in meaning to the gold answer.\n",
            "- The gold answer discusses the impact of daily choices becoming habits, the neurological loop of habit formation, and the importance of cues and rewards in forming good habits.\n",
            "- The output also discusses the impact of daily habits on long-term outcomes, the importance of cues and rewards in habit formation, and provides examples of daily choices that become habits.\n",
            "- Both the gold answer and the output emphasize the significance of habits in shaping future outcomes and the process of habit formation.\n",
            "- The output, while not identical, captures the essence of the gold answer by discussing the role of habits, cues, and rewards in shaping long-term outcomes.\n",
            "- Therefore, the output is similar in meaning to the gold answer, fulfilling the pass criteria.\n",
            "=================================\n"
          ]
        }
      ]
    },
    {
      "cell_type": "markdown",
      "source": [
        "### Class Based Evaluators"
      ],
      "metadata": {
        "id": "MjpWulgBjNIy"
      }
    },
    {
      "cell_type": "code",
      "source": [
        "from transformers import BertTokenizer, BertModel\n",
        "from patronus import StructuredEvaluator, EvaluationResult\n",
        "from patronus.experiments import run_experiment\n",
        "import numpy as np\n",
        "\n",
        "\n",
        "class BERTScore(StructuredEvaluator):\n",
        "    def __init__(self, pass_threshold: float):\n",
        "        self.pass_threshold = pass_threshold\n",
        "        self.tokenizer = BertTokenizer.from_pretrained(\"bert-base-uncased\")\n",
        "        self.model = BertModel.from_pretrained(\"bert-base-uncased\")\n",
        "\n",
        "    def evaluate(\n",
        "        self, *, task_output: str, gold_answer: str, **kwargs\n",
        "    ) -> EvaluationResult:\n",
        "        output_toks = self.tokenizer(\n",
        "            task_output, return_tensors=\"pt\", padding=True, truncation=True\n",
        "        )\n",
        "        gold_answer_toks = self.tokenizer(\n",
        "            gold_answer, return_tensors=\"pt\", padding=True, truncation=True\n",
        "        )\n",
        "\n",
        "        output_embeds = (\n",
        "            self.model(**output_toks).last_hidden_state.mean(dim=1).detach().numpy()\n",
        "        )\n",
        "        gold_answer_embeds = (\n",
        "            self.model(**gold_answer_toks)\n",
        "            .last_hidden_state.mean(dim=1)\n",
        "            .detach()\n",
        "            .numpy()\n",
        "        )\n",
        "\n",
        "        score = np.dot(output_embeds, gold_answer_embeds.T) / (\n",
        "            np.linalg.norm(output_embeds) * np.linalg.norm(gold_answer_embeds)\n",
        "        )\n",
        "\n",
        "        return EvaluationResult(\n",
        "            score=score,\n",
        "            pass_=score >= self.pass_threshold,\n",
        "            tags={\"pass_threshold\": str(self.pass_threshold)},\n",
        "        )\n",
        "\n",
        "\n"
      ],
      "metadata": {
        "id": "jExbBNvZ8ekU"
      },
      "execution_count": 29,
      "outputs": []
    },
    {
      "cell_type": "code",
      "source": [
        "experiment = await run_experiment(\n",
        "    api_key = PATRONUS_API_KEY,\n",
        "    dataset=[\n",
        "        {\n",
        "            \"task_output\": summary,\n",
        "            \"gold_answer\": response1,\n",
        "        }\n",
        "    ],\n",
        "    evaluators=[BERTScore(pass_threshold=0.8)],\n",
        ")\n",
        "\n",
        "experiment.to_dataframe().to_dict()"
      ],
      "metadata": {
        "id": "G-isq1j4GH5I",
        "colab": {
          "base_uri": "https://localhost:8080/"
        },
        "outputId": "dc9ee31d-93c1-45d0-8a6b-9c3b288e0ea4"
      },
      "execution_count": 32,
      "outputs": [
        {
          "output_type": "stream",
          "name": "stdout",
          "text": [
            "=============================\n"
          ]
        },
        {
          "output_type": "stream",
          "name": "stderr",
          "text": [
            "Experiment  Global/1743493074: 100%|██████████| 1/1 [00:00<00:00,  2.81sample/s]\n"
          ]
        },
        {
          "output_type": "stream",
          "name": "stdout",
          "text": [
            "\n",
            "BERTScore [link_idx=0]\n",
            "----------------------\n",
            "Count     : 1\n",
            "Pass rate : 1\n",
            "Mean      : 0.831\n",
            "Min       : 0.831\n",
            "25%       : 0.831\n",
            "50%       : 0.831\n",
            "75%       : 0.831\n",
            "Max       : 0.831\n",
            "\n",
            "Score distribution\n",
            "Score Range          Count      Histogram\n",
            "0.00 - 0.17          0          \n",
            "0.17 - 0.33          0          \n",
            "0.33 - 0.50          0          \n",
            "0.50 - 0.66          0          \n",
            "0.66 - 0.83          1          ####################\n"
          ]
        },
        {
          "output_type": "execute_result",
          "data": {
            "text/plain": [
              "{'link_idx': {0: 0},\n",
              " 'task.name': {0: None},\n",
              " 'evaluator_id': {0: 'BERTScore'},\n",
              " 'criteria': {0: 'None'},\n",
              " 'task.output': {0: None},\n",
              " 'task.metadata': {0: None},\n",
              " 'task.tags': {0: None},\n",
              " 'eval.score': {0: 0.8306820392608643},\n",
              " 'eval.pass': {0: True},\n",
              " 'eval.text_output': {0: None},\n",
              " 'eval.metadata': {0: None},\n",
              " 'eval.explanation': {0: None},\n",
              " 'eval.tags': {0: {'pass_threshold': '0.8'}},\n",
              " 'eval.evaluation_duration': {0: None},\n",
              " 'eval.explanation_duration': {0: None},\n",
              " 'task_output': {0: 'How much money you make how much time you spend with your friends and family how well your body functions years from now all of these in many ways are products of the habits you are building today.when you woke up this morning what did you do first did you hop in the shower check your email or grab a doughnut what did you say to your roommates on the way out the door salad or hamburger for lunch when you got home did you put on your sneakers and go for a run or eat dinner in front of the television most of the choices we make each day may feel like the products of decision making but they’re not.if you want to start running each morning it essential that you choose a simple cue and a clear reward .want more you might also like • the scientific workout • no time to workout try exercising on the job • how to pick a health insurance planand though each habit means relatively little on its own over time the meals we eat how we spend our evenings and how often we exercise have enormous impacts.'},\n",
              " 'gold_answer': {0: \"The article discusses how daily choices often become habits, significantly impacting long-term health, productivity, and happiness, especially in one's 20s. It explains that habits form through a neurological loop involving a cue, routine, and reward. A study on exercisers found that habits develop due to specific cues and rewards. To create good habits, like exercise, one must establish clear cues (e.g., a specific time) and rewards (e.g., a sense of accomplishment or a treat). Initially, external rewards like chocolate may be needed to train the brain to associate the cue with the routine and inherent reward. Over time, the brain learns to enjoy the natural rewards, making the habit automatic. The article emphasizes understanding habit formation to build positive routines.\"},\n",
              " 'sid': {0: '1'}}"
            ]
          },
          "metadata": {},
          "execution_count": 32
        }
      ]
    },
    {
      "cell_type": "code",
      "source": [
        "result = experiment.result()\n",
        "result.to_dataframe().to_dict()"
      ],
      "metadata": {
        "id": "zZXUKOjWl9RT",
        "outputId": "a72317e3-c5ef-4820-b444-38e9305cc583",
        "colab": {
          "base_uri": "https://localhost:8080/"
        }
      },
      "execution_count": null,
      "outputs": [
        {
          "output_type": "execute_result",
          "data": {
            "text/plain": [
              "{'link_idx': {0: 0},\n",
              " 'task.name': {0: None},\n",
              " 'evaluator_id': {0: 'BERTScore'},\n",
              " 'criteria': {0: 'None'},\n",
              " 'task.output': {0: None},\n",
              " 'task.metadata': {0: None},\n",
              " 'task.tags': {0: None},\n",
              " 'eval.score': {0: 0.792450487613678},\n",
              " 'eval.pass': {0: False},\n",
              " 'eval.text_output': {0: None},\n",
              " 'eval.metadata': {0: None},\n",
              " 'eval.explanation': {0: None},\n",
              " 'eval.tags': {0: {'pass_threshold': '0.8'}},\n",
              " 'eval.evaluation_duration': {0: None},\n",
              " 'eval.explanation_duration': {0: None},\n",
              " 'task_output': {0: 'How much money you make how much time you spend with your friends and family how well your body functions years from now all of these in many ways are products of the habits you are building today.when you woke up this morning what did you do first did you hop in the shower check your email or grab a doughnut what did you say to your roommates on the way out the door salad or hamburger for lunch when you got home did you put on your sneakers and go for a run or eat dinner in front of the television most of the choices we make each day may feel like the products of decision making but they’re not.if you want to start running each morning it essential that you choose a simple cue and a clear reward .want more you might also like • the scientific workout • no time to workout try exercising on the job • how to pick a health insurance planand though each habit means relatively little on its own over time the meals we eat how we spend our evenings and how often we exercise have enormous impacts.'},\n",
              " 'gold_answer': {0: \"Habits, not decisions, drive most daily choices. These habits significantly impact health, productivity, and happiness, especially in one's 20s. Habits form through a neurological loop: cue, routine, reward. A study found that people who exercised regularly did so because of specific cues and rewards. To build good habits, like exercise, pair cues with enjoyable rewards. Initially, external rewards like chocolate can help, but over time, the brain learns to enjoy the inherent rewards, making the habit automatic.\"},\n",
              " 'sid': {0: '1'}}"
            ]
          },
          "metadata": {},
          "execution_count": 18
        }
      ]
    },
    {
      "cell_type": "markdown",
      "source": [
        "### Patronus AI Experiments with Glider LLM"
      ],
      "metadata": {
        "id": "ho2iNQsP7zTI"
      }
    },
    {
      "cell_type": "code",
      "source": [
        "## dataset download link\n",
        "## here I upload my custom dataset\n",
        "\n",
        "dataset = pd.read_csv(\"/content/validation-squad.csv.zip\")\n",
        "\n",
        "random_records = dataset.sample(n=50)\n",
        "\n",
        "random_records.to_csv(\"qa_records.csv\", index=False)\n",
        "\n",
        "print(random_records.shape)\n",
        "\n",
        "random_records.head()"
      ],
      "metadata": {
        "colab": {
          "base_uri": "https://localhost:8080/",
          "height": 328
        },
        "id": "OUE0wF4U_AzC",
        "outputId": "6ad7e2a9-1112-4cce-adab-d258773de7fd"
      },
      "execution_count": 33,
      "outputs": [
        {
          "output_type": "stream",
          "name": "stdout",
          "text": [
            "(50, 6)\n"
          ]
        },
        {
          "output_type": "execute_result",
          "data": {
            "text/plain": [
              "      Unnamed: 0                                            context  \\\n",
              "3884         220  Internet2 is a not-for-profit United States co...   \n",
              "6875          68  Inflammation is one of the first responses of ...   \n",
              "3700          36  Packet mode communication may be implemented w...   \n",
              "9333         190  There are 13 natural reserves in Warsaw – amon...   \n",
              "6622         174  Western musical instruments were introduced to...   \n",
              "\n",
              "                                               question  \\\n",
              "3884                                  what is Internet2   \n",
              "6875  What compounds are released by injured or infe...   \n",
              "3700  In cases of shared physical medium how are the...   \n",
              "9333  What animals does the Vistula river's ecosyste...   \n",
              "6622  What type of practices did the Yuan reintroduc...   \n",
              "\n",
              "                            id  answer_start  \\\n",
              "3884  5726472bdd62a815002e8042            13   \n",
              "6875  572900f73f37b31900477f6b           228   \n",
              "3700  5726219489a1e219009ac2d0           541   \n",
              "9333  57337ddc4776f41900660bbc           287   \n",
              "6622  572879574b864d1900164a17           432   \n",
              "\n",
              "                                                   text  \n",
              "3884  a not-for-profit United States computer networ...  \n",
              "6875                          eicosanoids and cytokines  \n",
              "3700                             multiple access scheme  \n",
              "9333         otter, beaver and hundreds of bird species  \n",
              "6622  Confucian governmental practices and examinations  "
            ],
            "text/html": [
              "\n",
              "  <div id=\"df-7b2fe889-0905-4dad-8f50-621f7f6abec6\" class=\"colab-df-container\">\n",
              "    <div>\n",
              "<style scoped>\n",
              "    .dataframe tbody tr th:only-of-type {\n",
              "        vertical-align: middle;\n",
              "    }\n",
              "\n",
              "    .dataframe tbody tr th {\n",
              "        vertical-align: top;\n",
              "    }\n",
              "\n",
              "    .dataframe thead th {\n",
              "        text-align: right;\n",
              "    }\n",
              "</style>\n",
              "<table border=\"1\" class=\"dataframe\">\n",
              "  <thead>\n",
              "    <tr style=\"text-align: right;\">\n",
              "      <th></th>\n",
              "      <th>Unnamed: 0</th>\n",
              "      <th>context</th>\n",
              "      <th>question</th>\n",
              "      <th>id</th>\n",
              "      <th>answer_start</th>\n",
              "      <th>text</th>\n",
              "    </tr>\n",
              "  </thead>\n",
              "  <tbody>\n",
              "    <tr>\n",
              "      <th>3884</th>\n",
              "      <td>220</td>\n",
              "      <td>Internet2 is a not-for-profit United States co...</td>\n",
              "      <td>what is Internet2</td>\n",
              "      <td>5726472bdd62a815002e8042</td>\n",
              "      <td>13</td>\n",
              "      <td>a not-for-profit United States computer networ...</td>\n",
              "    </tr>\n",
              "    <tr>\n",
              "      <th>6875</th>\n",
              "      <td>68</td>\n",
              "      <td>Inflammation is one of the first responses of ...</td>\n",
              "      <td>What compounds are released by injured or infe...</td>\n",
              "      <td>572900f73f37b31900477f6b</td>\n",
              "      <td>228</td>\n",
              "      <td>eicosanoids and cytokines</td>\n",
              "    </tr>\n",
              "    <tr>\n",
              "      <th>3700</th>\n",
              "      <td>36</td>\n",
              "      <td>Packet mode communication may be implemented w...</td>\n",
              "      <td>In cases of shared physical medium how are the...</td>\n",
              "      <td>5726219489a1e219009ac2d0</td>\n",
              "      <td>541</td>\n",
              "      <td>multiple access scheme</td>\n",
              "    </tr>\n",
              "    <tr>\n",
              "      <th>9333</th>\n",
              "      <td>190</td>\n",
              "      <td>There are 13 natural reserves in Warsaw – amon...</td>\n",
              "      <td>What animals does the Vistula river's ecosyste...</td>\n",
              "      <td>57337ddc4776f41900660bbc</td>\n",
              "      <td>287</td>\n",
              "      <td>otter, beaver and hundreds of bird species</td>\n",
              "    </tr>\n",
              "    <tr>\n",
              "      <th>6622</th>\n",
              "      <td>174</td>\n",
              "      <td>Western musical instruments were introduced to...</td>\n",
              "      <td>What type of practices did the Yuan reintroduc...</td>\n",
              "      <td>572879574b864d1900164a17</td>\n",
              "      <td>432</td>\n",
              "      <td>Confucian governmental practices and examinations</td>\n",
              "    </tr>\n",
              "  </tbody>\n",
              "</table>\n",
              "</div>\n",
              "    <div class=\"colab-df-buttons\">\n",
              "\n",
              "  <div class=\"colab-df-container\">\n",
              "    <button class=\"colab-df-convert\" onclick=\"convertToInteractive('df-7b2fe889-0905-4dad-8f50-621f7f6abec6')\"\n",
              "            title=\"Convert this dataframe to an interactive table.\"\n",
              "            style=\"display:none;\">\n",
              "\n",
              "  <svg xmlns=\"http://www.w3.org/2000/svg\" height=\"24px\" viewBox=\"0 -960 960 960\">\n",
              "    <path d=\"M120-120v-720h720v720H120Zm60-500h600v-160H180v160Zm220 220h160v-160H400v160Zm0 220h160v-160H400v160ZM180-400h160v-160H180v160Zm440 0h160v-160H620v160ZM180-180h160v-160H180v160Zm440 0h160v-160H620v160Z\"/>\n",
              "  </svg>\n",
              "    </button>\n",
              "\n",
              "  <style>\n",
              "    .colab-df-container {\n",
              "      display:flex;\n",
              "      gap: 12px;\n",
              "    }\n",
              "\n",
              "    .colab-df-convert {\n",
              "      background-color: #E8F0FE;\n",
              "      border: none;\n",
              "      border-radius: 50%;\n",
              "      cursor: pointer;\n",
              "      display: none;\n",
              "      fill: #1967D2;\n",
              "      height: 32px;\n",
              "      padding: 0 0 0 0;\n",
              "      width: 32px;\n",
              "    }\n",
              "\n",
              "    .colab-df-convert:hover {\n",
              "      background-color: #E2EBFA;\n",
              "      box-shadow: 0px 1px 2px rgba(60, 64, 67, 0.3), 0px 1px 3px 1px rgba(60, 64, 67, 0.15);\n",
              "      fill: #174EA6;\n",
              "    }\n",
              "\n",
              "    .colab-df-buttons div {\n",
              "      margin-bottom: 4px;\n",
              "    }\n",
              "\n",
              "    [theme=dark] .colab-df-convert {\n",
              "      background-color: #3B4455;\n",
              "      fill: #D2E3FC;\n",
              "    }\n",
              "\n",
              "    [theme=dark] .colab-df-convert:hover {\n",
              "      background-color: #434B5C;\n",
              "      box-shadow: 0px 1px 3px 1px rgba(0, 0, 0, 0.15);\n",
              "      filter: drop-shadow(0px 1px 2px rgba(0, 0, 0, 0.3));\n",
              "      fill: #FFFFFF;\n",
              "    }\n",
              "  </style>\n",
              "\n",
              "    <script>\n",
              "      const buttonEl =\n",
              "        document.querySelector('#df-7b2fe889-0905-4dad-8f50-621f7f6abec6 button.colab-df-convert');\n",
              "      buttonEl.style.display =\n",
              "        google.colab.kernel.accessAllowed ? 'block' : 'none';\n",
              "\n",
              "      async function convertToInteractive(key) {\n",
              "        const element = document.querySelector('#df-7b2fe889-0905-4dad-8f50-621f7f6abec6');\n",
              "        const dataTable =\n",
              "          await google.colab.kernel.invokeFunction('convertToInteractive',\n",
              "                                                    [key], {});\n",
              "        if (!dataTable) return;\n",
              "\n",
              "        const docLinkHtml = 'Like what you see? Visit the ' +\n",
              "          '<a target=\"_blank\" href=https://colab.research.google.com/notebooks/data_table.ipynb>data table notebook</a>'\n",
              "          + ' to learn more about interactive tables.';\n",
              "        element.innerHTML = '';\n",
              "        dataTable['output_type'] = 'display_data';\n",
              "        await google.colab.output.renderOutput(dataTable, element);\n",
              "        const docLink = document.createElement('div');\n",
              "        docLink.innerHTML = docLinkHtml;\n",
              "        element.appendChild(docLink);\n",
              "      }\n",
              "    </script>\n",
              "  </div>\n",
              "\n",
              "\n",
              "<div id=\"df-644b7e9d-7ce6-49f4-9ab5-d9ff8a712192\">\n",
              "  <button class=\"colab-df-quickchart\" onclick=\"quickchart('df-644b7e9d-7ce6-49f4-9ab5-d9ff8a712192')\"\n",
              "            title=\"Suggest charts\"\n",
              "            style=\"display:none;\">\n",
              "\n",
              "<svg xmlns=\"http://www.w3.org/2000/svg\" height=\"24px\"viewBox=\"0 0 24 24\"\n",
              "     width=\"24px\">\n",
              "    <g>\n",
              "        <path d=\"M19 3H5c-1.1 0-2 .9-2 2v14c0 1.1.9 2 2 2h14c1.1 0 2-.9 2-2V5c0-1.1-.9-2-2-2zM9 17H7v-7h2v7zm4 0h-2V7h2v10zm4 0h-2v-4h2v4z\"/>\n",
              "    </g>\n",
              "</svg>\n",
              "  </button>\n",
              "\n",
              "<style>\n",
              "  .colab-df-quickchart {\n",
              "      --bg-color: #E8F0FE;\n",
              "      --fill-color: #1967D2;\n",
              "      --hover-bg-color: #E2EBFA;\n",
              "      --hover-fill-color: #174EA6;\n",
              "      --disabled-fill-color: #AAA;\n",
              "      --disabled-bg-color: #DDD;\n",
              "  }\n",
              "\n",
              "  [theme=dark] .colab-df-quickchart {\n",
              "      --bg-color: #3B4455;\n",
              "      --fill-color: #D2E3FC;\n",
              "      --hover-bg-color: #434B5C;\n",
              "      --hover-fill-color: #FFFFFF;\n",
              "      --disabled-bg-color: #3B4455;\n",
              "      --disabled-fill-color: #666;\n",
              "  }\n",
              "\n",
              "  .colab-df-quickchart {\n",
              "    background-color: var(--bg-color);\n",
              "    border: none;\n",
              "    border-radius: 50%;\n",
              "    cursor: pointer;\n",
              "    display: none;\n",
              "    fill: var(--fill-color);\n",
              "    height: 32px;\n",
              "    padding: 0;\n",
              "    width: 32px;\n",
              "  }\n",
              "\n",
              "  .colab-df-quickchart:hover {\n",
              "    background-color: var(--hover-bg-color);\n",
              "    box-shadow: 0 1px 2px rgba(60, 64, 67, 0.3), 0 1px 3px 1px rgba(60, 64, 67, 0.15);\n",
              "    fill: var(--button-hover-fill-color);\n",
              "  }\n",
              "\n",
              "  .colab-df-quickchart-complete:disabled,\n",
              "  .colab-df-quickchart-complete:disabled:hover {\n",
              "    background-color: var(--disabled-bg-color);\n",
              "    fill: var(--disabled-fill-color);\n",
              "    box-shadow: none;\n",
              "  }\n",
              "\n",
              "  .colab-df-spinner {\n",
              "    border: 2px solid var(--fill-color);\n",
              "    border-color: transparent;\n",
              "    border-bottom-color: var(--fill-color);\n",
              "    animation:\n",
              "      spin 1s steps(1) infinite;\n",
              "  }\n",
              "\n",
              "  @keyframes spin {\n",
              "    0% {\n",
              "      border-color: transparent;\n",
              "      border-bottom-color: var(--fill-color);\n",
              "      border-left-color: var(--fill-color);\n",
              "    }\n",
              "    20% {\n",
              "      border-color: transparent;\n",
              "      border-left-color: var(--fill-color);\n",
              "      border-top-color: var(--fill-color);\n",
              "    }\n",
              "    30% {\n",
              "      border-color: transparent;\n",
              "      border-left-color: var(--fill-color);\n",
              "      border-top-color: var(--fill-color);\n",
              "      border-right-color: var(--fill-color);\n",
              "    }\n",
              "    40% {\n",
              "      border-color: transparent;\n",
              "      border-right-color: var(--fill-color);\n",
              "      border-top-color: var(--fill-color);\n",
              "    }\n",
              "    60% {\n",
              "      border-color: transparent;\n",
              "      border-right-color: var(--fill-color);\n",
              "    }\n",
              "    80% {\n",
              "      border-color: transparent;\n",
              "      border-right-color: var(--fill-color);\n",
              "      border-bottom-color: var(--fill-color);\n",
              "    }\n",
              "    90% {\n",
              "      border-color: transparent;\n",
              "      border-bottom-color: var(--fill-color);\n",
              "    }\n",
              "  }\n",
              "</style>\n",
              "\n",
              "  <script>\n",
              "    async function quickchart(key) {\n",
              "      const quickchartButtonEl =\n",
              "        document.querySelector('#' + key + ' button');\n",
              "      quickchartButtonEl.disabled = true;  // To prevent multiple clicks.\n",
              "      quickchartButtonEl.classList.add('colab-df-spinner');\n",
              "      try {\n",
              "        const charts = await google.colab.kernel.invokeFunction(\n",
              "            'suggestCharts', [key], {});\n",
              "      } catch (error) {\n",
              "        console.error('Error during call to suggestCharts:', error);\n",
              "      }\n",
              "      quickchartButtonEl.classList.remove('colab-df-spinner');\n",
              "      quickchartButtonEl.classList.add('colab-df-quickchart-complete');\n",
              "    }\n",
              "    (() => {\n",
              "      let quickchartButtonEl =\n",
              "        document.querySelector('#df-644b7e9d-7ce6-49f4-9ab5-d9ff8a712192 button');\n",
              "      quickchartButtonEl.style.display =\n",
              "        google.colab.kernel.accessAllowed ? 'block' : 'none';\n",
              "    })();\n",
              "  </script>\n",
              "</div>\n",
              "\n",
              "    </div>\n",
              "  </div>\n"
            ],
            "application/vnd.google.colaboratory.intrinsic+json": {
              "type": "dataframe",
              "variable_name": "random_records",
              "summary": "{\n  \"name\": \"random_records\",\n  \"rows\": 50,\n  \"fields\": [\n    {\n      \"column\": \"Unnamed: 0\",\n      \"properties\": {\n        \"dtype\": \"number\",\n        \"std\": 91,\n        \"min\": 11,\n        \"max\": 423,\n        \"num_unique_values\": 46,\n        \"samples\": [\n          111,\n          71,\n          39\n        ],\n        \"semantic_type\": \"\",\n        \"description\": \"\"\n      }\n    },\n    {\n      \"column\": \"context\",\n      \"properties\": {\n        \"dtype\": \"string\",\n        \"num_unique_values\": 48,\n        \"samples\": [\n          \"The Standard Industrial Classification and the newer North American Industry Classification System have a classification system for companies that perform or otherwise engage in construction. To recognize the differences of companies in this sector, it is divided into three subsectors: building construction, heavy and civil engineering construction, and specialty trade contractors. There are also categories for construction service firms (e.g., engineering, architecture) and construction managers (firms engaged in managing construction projects without assuming direct financial responsibility for completion of the construction project).\",\n          \"An oscillating cylinder steam engine is a variant of the simple expansion steam engine which does not require valves to direct steam into and out of the cylinder. Instead of valves, the entire cylinder rocks, or oscillates, such that one or more holes in the cylinder line up with holes in a fixed port face or in the pivot mounting (trunnion). These engines are mainly used in toys and models, because of their simplicity, but have also been used in full size working engines, mainly on ships where their compactness is valued.[citation needed]\",\n          \"IPCC author Richard Lindzen has made a number of criticisms of the TAR. Among his criticisms, Lindzen has stated that the WGI Summary for Policymakers (SPM) does not faithfully summarize the full WGI report. For example, Lindzen states that the SPM understates the uncertainty associated with climate models. John Houghton, who was a co-chair of TAR WGI, has responded to Lindzen's criticisms of the SPM. Houghton has stressed that the SPM is agreed upon by delegates from many of the world's governments, and that any changes to the SPM must be supported by scientific evidence.\"\n        ],\n        \"semantic_type\": \"\",\n        \"description\": \"\"\n      }\n    },\n    {\n      \"column\": \"question\",\n      \"properties\": {\n        \"dtype\": \"string\",\n        \"num_unique_values\": 49,\n        \"samples\": [\n          \"In what complexity class do complement problems of NP problems exist?\",\n          \"What was the ideal duty of a Newcomen engine?\",\n          \"What directly opposes the force applied to move an object across a surface?\"\n        ],\n        \"semantic_type\": \"\",\n        \"description\": \"\"\n      }\n    },\n    {\n      \"column\": \"id\",\n      \"properties\": {\n        \"dtype\": \"string\",\n        \"num_unique_values\": 49,\n        \"samples\": [\n          \"56e1efa0e3433e140042321a\",\n          \"571156152419e3140095559e\",\n          \"57377862c3c5551400e51ef4\"\n        ],\n        \"semantic_type\": \"\",\n        \"description\": \"\"\n      }\n    },\n    {\n      \"column\": \"answer_start\",\n      \"properties\": {\n        \"dtype\": \"number\",\n        \"std\": 223,\n        \"min\": 3,\n        \"max\": 1028,\n        \"num_unique_values\": 47,\n        \"samples\": [\n          1028,\n          105,\n          502\n        ],\n        \"semantic_type\": \"\",\n        \"description\": \"\"\n      }\n    },\n    {\n      \"column\": \"text\",\n      \"properties\": {\n        \"dtype\": \"string\",\n        \"num_unique_values\": 50,\n        \"samples\": [\n          \"co-NP\",\n          \"in protest\",\n          \"Buckland Valley near Bright\"\n        ],\n        \"semantic_type\": \"\",\n        \"description\": \"\"\n      }\n    }\n  ]\n}"
            }
          },
          "metadata": {},
          "execution_count": 33
        }
      ]
    },
    {
      "cell_type": "code",
      "source": [
        "from patronus.datasets import read_csv, read_jsonl\n",
        "\n",
        "dataset = read_csv(\n",
        "    \"/content/qa_records.csv\",\n",
        "    task_input_field=\"question\",\n",
        "    task_context_field=\"context\",\n",
        "    )\n",
        "\n",
        "dataset"
      ],
      "metadata": {
        "colab": {
          "base_uri": "https://localhost:8080/"
        },
        "id": "9uhF1Y5c_EHb",
        "outputId": "cadd7526-8ee3-49ca-d01c-83721472c4dd"
      },
      "execution_count": 34,
      "outputs": [
        {
          "output_type": "execute_result",
          "data": {
            "text/plain": [
              "Dataset(dataset_id=None, df=    Unnamed: 0                                            context  \\\n",
              "0          220  Internet2 is a not-for-profit United States co...   \n",
              "9           96  After the revocation of the Edict of Nantes, t...   \n",
              "10         171  Some theories of civil disobedience hold that ...   \n",
              "11          78  After Malaysia's independence in 1957, the gov...   \n",
              "12         253  The concept of prime number is so important th...   \n",
              "13         287  Along the same lines, co-NP is the class conta...   \n",
              "14         200  However, already in quantum mechanics there is...   \n",
              "15          81  Jacksonville, like most large cities in the Un...   \n",
              "16         124  On the other hand, higher economic inequality ...   \n",
              "17         124  The university runs a number of academic insti...   \n",
              "18          38  The first fortified settlements on the site of...   \n",
              "1           68  Inflammation is one of the first responses of ...   \n",
              "19         126  The Presiding Officer (or Deputy Presiding Off...   \n",
              "20         208  A third type of conjectures concerns aspects o...   \n",
              "21         271  On the other hand, in the late 1980s the Weste...   \n",
              "22         112  Concentrated O\\n2 will allow combustion to pro...   \n",
              "23         337  Tension forces can be modeled using ideal stri...   \n",
              "24         236  Oxygen is the most abundant chemical element b...   \n",
              "25         318  In 2010 the Amazon rainforest experienced anot...   \n",
              "26          71  IPCC author Richard Lindzen has made a number ...   \n",
              "27          39  The Standard Industrial Classification and the...   \n",
              "28         307  Politically, the system of government created ...   \n",
              "2           36  Packet mode communication may be implemented w...   \n",
              "29          64  Kublai's government after 1262 was a compromis...   \n",
              "30          11  Immigrants arrived from all over the world to ...   \n",
              "31         157  However, this definition is disputed by Thorea...   \n",
              "32         307  Civil disobedients have chosen a variety of di...   \n",
              "33         290  The origin of electric and magnetic fields wou...   \n",
              "34         231  Following the French Crown's revocation of the...   \n",
              "35          39  The following four timelines show the geologic...   \n",
              "36         240  Oxygen is the most abundant chemical element b...   \n",
              "37         191  There are 13 natural reserves in Warsaw – amon...   \n",
              "38         423  The pound-force has a metric counterpart, less...   \n",
              "3          190  There are 13 natural reserves in Warsaw – amon...   \n",
              "39         177  In Berlin, the Huguenots created two new neigh...   \n",
              "40         109  The principles of imperialism are often genera...   \n",
              "41         192  In 1564 a group of Norman Huguenots under the ...   \n",
              "42         111  An oscillating cylinder steam engine is a vari...   \n",
              "43         101  The University of Chicago is governed by a boa...   \n",
              "44         117  Traveling south on Interstate 5, the main gap ...   \n",
              "45         208  Governor Robert Dinwiddie of Virginia was an i...   \n",
              "46         163  The historical measure of a steam engine's ene...   \n",
              "47         102  A construction project is a complex net of con...   \n",
              "48         175  A simple case of dynamic equilibrium occurs in...   \n",
              "4          174  Western musical instruments were introduced to...   \n",
              "49          86  Hospital pharmacies can often be found within ...   \n",
              "5          161  There are also many places commemorating the h...   \n",
              "6          159  A static equilibrium between two forces is the...   \n",
              "7          155  Highly combustible materials that leave little...   \n",
              "8          254  By the late 19th century scientists realized t...   \n",
              "\n",
              "                                             question  \\\n",
              "0                                   what is Internet2   \n",
              "9   What country initially received the largest nu...   \n",
              "10  Browlee also applies that civil disobedience i...   \n",
              "11  What language is used in Chinese primary schoo...   \n",
              "12        What does the word prime generally suggest?   \n",
              "13  In what complexity class do complement problem...   \n",
              "14  If the apparant force of two fermions is attra...   \n",
              "15  What drove residents to quieter suburban housing?   \n",
              "16  What motivation is opportunity-based entrepren...   \n",
              "17         Where is the Hyde Park Day School located?   \n",
              "18                    Who was Boleslaw II of Masovia?   \n",
              "1   What compounds are released by injured or infe...   \n",
              "19     What is also decided by the Presiding Officer?   \n",
              "20                              What is a twin prime?   \n",
              "21  When was ctenophore mnemiopsis leidyi introduc...   \n",
              "22  Because of the danger inherent in concentrated...   \n",
              "23  In what way do idea strings transmit tesion fo...   \n",
              "24          How much of the sun is made up of oxygen?   \n",
              "25  In what year did the Amazon experience a droug...   \n",
              "26                          What was Houghton's role?   \n",
              "27                    What are construction managers?   \n",
              "28  Where were Persians more successful compared t...   \n",
              "2   In cases of shared physical medium how are the...   \n",
              "29  How many societal class divisions were in the ...   \n",
              "30                           Where was the 1857 riot?   \n",
              "31  Who was famous for disobedience against a tax ...   \n",
              "32  Such protests are usually considered to be wha...   \n",
              "33  Who discovered that magnetic and electric coul...   \n",
              "34    Which Irish cities had large Huguenot enclaves?   \n",
              "35              What is the name of the latest epoch?   \n",
              "36             Where  by mass is oxygen a major part?   \n",
              "37  What animals does the Vistula river's ecosyste...   \n",
              "38  What is a very seldom used unit of mass in the...   \n",
              "3   What animals does the Vistula river's ecosyste...   \n",
              "39  Why did Berlin Huguenots switch to German from...   \n",
              "40         When did Great Britain colonize Australia?   \n",
              "41  What was the name of the Florida Huguenot colony?   \n",
              "42  What type of steam engine doesn't need valves ...   \n",
              "43  What is the name of the Chairman of the Board ...   \n",
              "44  Other than L.A. which other county do many peo...   \n",
              "45  Governon Robert Dinwiddie had an investment in...   \n",
              "46      What was the ideal duty of a Newcomen engine?   \n",
              "47   What does the time element in construction mean?   \n",
              "48  What directly opposes the force applied to mov...   \n",
              "4   What type of practices did the Yuan reintroduc...   \n",
              "49  What is one factor that increases the importan...   \n",
              "5   Who does the statue of Little Insurgent commem...   \n",
              "6   Objects of constant density are proportional t...   \n",
              "7   What characteristic due most items display aft...   \n",
              "8   What minor amount of liquid oxygen was produce...   \n",
              "\n",
              "                          id  answer_start  \\\n",
              "0   5726472bdd62a815002e8042            13   \n",
              "9   57108d69b654c5140001f983            45   \n",
              "10  5728151b4b864d190016442b           295   \n",
              "11  57274d9bf1498d1400e8f5f7           497   \n",
              "12  57299a6f6aef051400155016           156   \n",
              "13  56e1efa0e3433e140042321a            22   \n",
              "14  57377c98c3c5551400e51efe           668   \n",
              "15  57281ab63acd2414000df493           136   \n",
              "16  5729de24af94a219006aa68c           381   \n",
              "17  572855973acd2414000df929           593   \n",
              "18  57332562d058e614000b5731           288   \n",
              "1   572900f73f37b31900477f6b           228   \n",
              "19  572fc41f947a6a140053cc81            94   \n",
              "20  572991943f37b319004784a2           138   \n",
              "21  57268c01dd62a815002e8914            22   \n",
              "22  571ce9bddd7acb1400e4c1a1           320   \n",
              "23  57379ed81c456719005744d7           266   \n",
              "24  571c97e2dd7acb1400e4c120           193   \n",
              "25  572a0bebaf94a219006aa76f             3   \n",
              "26  57293f353f37b3190047819e           332   \n",
              "27  57273f27dd62a815002e9a0d           502   \n",
              "28  572883153acd2414000dfa73          1028   \n",
              "2   5726219489a1e219009ac2d0           541   \n",
              "29  572869b84b864d19001649b1           565   \n",
              "30  570d2556fed7b91900d45c49           394   \n",
              "31  5728dafe3acd2414000e005f           569   \n",
              "32  5728e5224b864d1900165034           631   \n",
              "33  57378e311c456719005744b3           444   \n",
              "34  5710f2e2a58dae1900cd6b74           420   \n",
              "35  572663a9f1498d1400e8ddf5           595   \n",
              "36  571c97e2dd7acb1400e4c121           329   \n",
              "37  57337ddc4776f41900660bbc           287   \n",
              "38  5737aafd1c456719005744fd           263   \n",
              "3   57337ddc4776f41900660bbc           287   \n",
              "39  571099b2b654c5140001f9b5           299   \n",
              "40  57308ddc396df919000961a7           453   \n",
              "41  5710e9f8a58dae1900cd6b32           105   \n",
              "42  57114b1a2419e31400955575             3   \n",
              "43  5728501aff5b5019007da169           616   \n",
              "44  5705fb7f52bb891400689753           521   \n",
              "45  5733ef47d058e614000b662b            61   \n",
              "46  571156152419e3140095559e           378   \n",
              "47  572751b4708984140094dc1d           388   \n",
              "48  57377862c3c5551400e51ef4           189   \n",
              "4   572879574b864d1900164a17           432   \n",
              "49  5726e313f1498d1400e8eeb5           767   \n",
              "5   5733647e4776f419006609b1           506   \n",
              "6   57377083c3c5551400e51ee2           426   \n",
              "7   571c8198dd7acb1400e4c0d2           448   \n",
              "8   571caac55efbb31900334dc9           592   \n",
              "\n",
              "                                                 text  \\\n",
              "0   a not-for-profit United States computer networ...   \n",
              "9                                  the Dutch Republic   \n",
              "10  a larger challenge to the legal system that pe...   \n",
              "11                                            Chinese   \n",
              "12                                         minimality   \n",
              "13                                              co-NP   \n",
              "14                                       antiparallel   \n",
              "15                           construction of highways   \n",
              "16          achievement-oriented motivations (\"pull\")   \n",
              "17                       University of Chicago campus   \n",
              "18                                    Prince of Płock   \n",
              "1                           eicosanoids and cytokines   \n",
              "19  the amount of time for which they are allowed ...   \n",
              "20                  pairs of primes with difference 2   \n",
              "21                                     the late 1980s   \n",
              "22                                               fire   \n",
              "23                           in action-reaction pairs   \n",
              "24                                         About 0.9%   \n",
              "25                                               2010   \n",
              "26                              a co-chair of TAR WGI   \n",
              "27  (firms engaged in managing construction projec...   \n",
              "28        reaching the highest-post in the government   \n",
              "2                              multiple access scheme   \n",
              "29                                  three, later four   \n",
              "30                        Buckland Valley near Bright   \n",
              "31                                            Thoreau   \n",
              "32                          symbolic illegal protests   \n",
              "33                                            Maxwell   \n",
              "34  Dublin, Cork, Portarlington, Lisburn, Waterfor...   \n",
              "35                                       The Holocene   \n",
              "36                                             oceans   \n",
              "37        otter, beaver and hundreds of bird species.   \n",
              "38                                    the metric slug   \n",
              "3          otter, beaver and hundreds of bird species   \n",
              "39                                         in protest   \n",
              "40                                eighteenth century,   \n",
              "41                                      Fort Caroline   \n",
              "42                                        oscillating   \n",
              "43                                       Andrew Alper   \n",
              "44                                    Orange Counties   \n",
              "45                                       Ohio Company   \n",
              "46                                          7 million   \n",
              "47  that a delay costs money, and in cases of bott...   \n",
              "48                                   kinetic friction   \n",
              "4   Confucian governmental practices and examinations   \n",
              "49  The high cost of medications and drug-related ...   \n",
              "5                                            children   \n",
              "6                                the force of gravity   \n",
              "7                                             lighter   \n",
              "8                                         a few drops   \n",
              "\n",
              "                                         task_context  \\\n",
              "0   [Internet2 is a not-for-profit United States c...   \n",
              "9   [After the revocation of the Edict of Nantes, ...   \n",
              "10  [Some theories of civil disobedience hold that...   \n",
              "11  [After Malaysia's independence in 1957, the go...   \n",
              "12  [The concept of prime number is so important t...   \n",
              "13  [Along the same lines, co-NP is the class cont...   \n",
              "14  [However, already in quantum mechanics there i...   \n",
              "15  [Jacksonville, like most large cities in the U...   \n",
              "16  [On the other hand, higher economic inequality...   \n",
              "17  [The university runs a number of academic inst...   \n",
              "18  [The first fortified settlements on the site o...   \n",
              "1   [Inflammation is one of the first responses of...   \n",
              "19  [The Presiding Officer (or Deputy Presiding Of...   \n",
              "20  [A third type of conjectures concerns aspects ...   \n",
              "21  [On the other hand, in the late 1980s the West...   \n",
              "22  [Concentrated O\\n2 will allow combustion to pr...   \n",
              "23  [Tension forces can be modeled using ideal str...   \n",
              "24  [Oxygen is the most abundant chemical element ...   \n",
              "25  [In 2010 the Amazon rainforest experienced ano...   \n",
              "26  [IPCC author Richard Lindzen has made a number...   \n",
              "27  [The Standard Industrial Classification and th...   \n",
              "28  [Politically, the system of government created...   \n",
              "2   [Packet mode communication may be implemented ...   \n",
              "29  [Kublai's government after 1262 was a compromi...   \n",
              "30  [Immigrants arrived from all over the world to...   \n",
              "31  [However, this definition is disputed by Thore...   \n",
              "32  [Civil disobedients have chosen a variety of d...   \n",
              "33  [The origin of electric and magnetic fields wo...   \n",
              "34  [Following the French Crown's revocation of th...   \n",
              "35  [The following four timelines show the geologi...   \n",
              "36  [Oxygen is the most abundant chemical element ...   \n",
              "37  [There are 13 natural reserves in Warsaw – amo...   \n",
              "38  [The pound-force has a metric counterpart, les...   \n",
              "3   [There are 13 natural reserves in Warsaw – amo...   \n",
              "39  [In Berlin, the Huguenots created two new neig...   \n",
              "40  [The principles of imperialism are often gener...   \n",
              "41  [In 1564 a group of Norman Huguenots under the...   \n",
              "42  [An oscillating cylinder steam engine is a var...   \n",
              "43  [The University of Chicago is governed by a bo...   \n",
              "44  [Traveling south on Interstate 5, the main gap...   \n",
              "45  [Governor Robert Dinwiddie of Virginia was an ...   \n",
              "46  [The historical measure of a steam engine's en...   \n",
              "47  [A construction project is a complex net of co...   \n",
              "48  [A simple case of dynamic equilibrium occurs i...   \n",
              "4   [Western musical instruments were introduced t...   \n",
              "49  [Hospital pharmacies can often be found within...   \n",
              "5   [There are also many places commemorating the ...   \n",
              "6   [A static equilibrium between two forces is th...   \n",
              "7   [Highly combustible materials that leave littl...   \n",
              "8   [By the late 19th century scientists realized ...   \n",
              "\n",
              "                                           task_input sid  \n",
              "0                                   what is Internet2   1  \n",
              "9   What country initially received the largest nu...  10  \n",
              "10  Browlee also applies that civil disobedience i...  11  \n",
              "11  What language is used in Chinese primary schoo...  12  \n",
              "12        What does the word prime generally suggest?  13  \n",
              "13  In what complexity class do complement problem...  14  \n",
              "14  If the apparant force of two fermions is attra...  15  \n",
              "15  What drove residents to quieter suburban housing?  16  \n",
              "16  What motivation is opportunity-based entrepren...  17  \n",
              "17         Where is the Hyde Park Day School located?  18  \n",
              "18                    Who was Boleslaw II of Masovia?  19  \n",
              "1   What compounds are released by injured or infe...   2  \n",
              "19     What is also decided by the Presiding Officer?  20  \n",
              "20                              What is a twin prime?  21  \n",
              "21  When was ctenophore mnemiopsis leidyi introduc...  22  \n",
              "22  Because of the danger inherent in concentrated...  23  \n",
              "23  In what way do idea strings transmit tesion fo...  24  \n",
              "24          How much of the sun is made up of oxygen?  25  \n",
              "25  In what year did the Amazon experience a droug...  26  \n",
              "26                          What was Houghton's role?  27  \n",
              "27                    What are construction managers?  28  \n",
              "28  Where were Persians more successful compared t...  29  \n",
              "2   In cases of shared physical medium how are the...   3  \n",
              "29  How many societal class divisions were in the ...  30  \n",
              "30                           Where was the 1857 riot?  31  \n",
              "31  Who was famous for disobedience against a tax ...  32  \n",
              "32  Such protests are usually considered to be wha...  33  \n",
              "33  Who discovered that magnetic and electric coul...  34  \n",
              "34    Which Irish cities had large Huguenot enclaves?  35  \n",
              "35              What is the name of the latest epoch?  36  \n",
              "36             Where  by mass is oxygen a major part?  37  \n",
              "37  What animals does the Vistula river's ecosyste...  38  \n",
              "38  What is a very seldom used unit of mass in the...  39  \n",
              "3   What animals does the Vistula river's ecosyste...   4  \n",
              "39  Why did Berlin Huguenots switch to German from...  40  \n",
              "40         When did Great Britain colonize Australia?  41  \n",
              "41  What was the name of the Florida Huguenot colony?  42  \n",
              "42  What type of steam engine doesn't need valves ...  43  \n",
              "43  What is the name of the Chairman of the Board ...  44  \n",
              "44  Other than L.A. which other county do many peo...  45  \n",
              "45  Governon Robert Dinwiddie had an investment in...  46  \n",
              "46      What was the ideal duty of a Newcomen engine?  47  \n",
              "47   What does the time element in construction mean?  48  \n",
              "48  What directly opposes the force applied to mov...  49  \n",
              "4   What type of practices did the Yuan reintroduc...   5  \n",
              "49  What is one factor that increases the importan...  50  \n",
              "5   Who does the statue of Little Insurgent commem...   6  \n",
              "6   Objects of constant density are proportional t...   7  \n",
              "7   What characteristic due most items display aft...   8  \n",
              "8   What minor amount of liquid oxygen was produce...   9  )"
            ]
          },
          "metadata": {},
          "execution_count": 34
        }
      ]
    },
    {
      "cell_type": "code",
      "source": [
        "! pip -q install openai\n",
        "\n",
        "from openai import OpenAI\n",
        "\n",
        "OPENAI_API_KEY = userdata.get('OPENAI_API_KEY')\n",
        "\n",
        "oai_client = OpenAI(\n",
        "    api_key = OPENAI_API_KEY\n",
        ")"
      ],
      "metadata": {
        "id": "PfZKdp6pAt9W"
      },
      "execution_count": 35,
      "outputs": []
    },
    {
      "cell_type": "code",
      "source": [
        "from patronus.datasets import Row\n",
        "from patronus.experiments.types import TaskResult\n",
        "from patronus import evaluator, RemoteEvaluator\n"
      ],
      "metadata": {
        "id": "5YJF01YOB__0"
      },
      "execution_count": 36,
      "outputs": []
    },
    {
      "cell_type": "code",
      "source": [
        "def gpt_4o_mini_basic(row: Row, **kwargs) -> TaskResult:\n",
        "    \"\"\"Simple hallucination detection\"\"\"\n",
        "\n",
        "    system_prompt = \"Based on the context, answer the user's question.\"\n",
        "\n",
        "    query = f\"\"\"\n",
        "    Answer the following question based on the context.\n",
        "    Question: {row.task_input}\n",
        "    Context: {row.task_context}\n",
        "    \"\"\"\n",
        "\n",
        "\n",
        "    evaluated_model_output = (\n",
        "        oai_client.chat.completions.create(\n",
        "            model=\"gpt-4o-mini\",\n",
        "            messages=[\n",
        "                {\n",
        "                    \"role\": \"system\",\n",
        "                    \"content\": system_prompt,\n",
        "                },\n",
        "                {\n",
        "                    \"role\": \"user\",\n",
        "                    \"content\": query\n",
        "                },\n",
        "            ],\n",
        "            temperature = 0.0\n",
        "        )\n",
        "        .choices[0]\n",
        "        .message.content\n",
        "    )\n",
        "\n",
        "    return evaluated_model_output"
      ],
      "metadata": {
        "id": "dW7J9h_cD-eB"
      },
      "execution_count": 37,
      "outputs": []
    },
    {
      "cell_type": "code",
      "source": [
        "def gpt_4o_mini_cot(row: Row, **kwargs) -> TaskResult:\n",
        "    \"\"\"COT based hallucination detection\"\"\"\n",
        "\n",
        "    system_prompt = \"\"\"You will receive  a user's question and the context\n",
        "    Based on the context, answer the user's question.\n",
        "    Only include information from the context and do not generate text inconsist with the context.\n",
        "    Think step by step to generate your final response.\"\"\"\n",
        "\n",
        "    query = f\"\"\"\n",
        "    Answer the following question based on the context.\n",
        "    Question: {row.task_input}\n",
        "    Context: {row.task_context}\n",
        "    \"\"\"\n",
        "\n",
        "\n",
        "    evaluated_model_output = (\n",
        "        oai_client.chat.completions.create(\n",
        "            model=\"gpt-4o-mini\",\n",
        "            messages=[\n",
        "                {\n",
        "                    \"role\": \"system\",\n",
        "                    \"content\": system_prompt,\n",
        "                },\n",
        "                {\n",
        "                    \"role\": \"user\",\n",
        "                    \"content\": query\n",
        "                },\n",
        "            ],\n",
        "            temperature = 0.0\n",
        "        )\n",
        "        .choices[0]\n",
        "        .message.content\n",
        "    )\n",
        "    return evaluated_model_output\n"
      ],
      "metadata": {
        "id": "oPsvJbm8SY3H"
      },
      "execution_count": 38,
      "outputs": []
    },
    {
      "cell_type": "code",
      "source": [
        "\n",
        "small_hallucination_evaluator = RemoteEvaluator(\"glider\", \"small-hallucination-check\")\n",
        "assistants = [\n",
        "    (gpt_4o_mini_basic, \"gpt_4o_mini_basic\"),\n",
        "    (gpt_4o_mini_cot, \"gpt_4o_mini_cot\"),\n",
        "]\n",
        "\n",
        "\n",
        "results = []\n",
        "\n",
        "for assistant_func, assistant_name in assistants:\n",
        "    experiment_results = await run_experiment(\n",
        "        api_key = PATRONUS_API_KEY,\n",
        "        dataset=dataset,\n",
        "        task = assistant_func,\n",
        "        evaluators=[small_hallucination_evaluator],\n",
        "        tags={\"dataset_type\": \"qa RAG\", \"model\": \"gpt-4o-mini\"},\n",
        "        experiment_name= assistant_name,\n",
        "        project_name = \"Compare RAG Prompts with Custom Evaluator\",\n",
        "        )\n",
        "    results.append(experiment_results)\n",
        "\n"
      ],
      "metadata": {
        "id": "GWbB8GmCAPOB",
        "colab": {
          "base_uri": "https://localhost:8080/"
        },
        "outputId": "4a38306c-67d4-41d2-b2d7-ba630d963005"
      },
      "execution_count": 39,
      "outputs": [
        {
          "output_type": "stream",
          "name": "stdout",
          "text": [
            "==================================================================================\n"
          ]
        },
        {
          "output_type": "stream",
          "name": "stderr",
          "text": [
            "Experiment  Compare RAG Prompts with Custom Evaluator/gpt_4o_mini_basic-1743493383: 100%|██████████| 50/50 [00:26<00:00,  1.90sample/s]\n"
          ]
        },
        {
          "output_type": "stream",
          "name": "stdout",
          "text": [
            "\n",
            "small-hallucination-check (glider) [link_idx=0]\n",
            "-----------------------------------------------\n",
            "Count     : 50\n",
            "Pass rate : 0.6\n",
            "Mean      : 2.42\n",
            "Min       : 1.0\n",
            "25%       : 2.0\n",
            "50%       : 3.0\n",
            "75%       : 3.0\n",
            "Max       : 3.0\n",
            "\n",
            "Score distribution\n",
            "Score Range          Count      Histogram\n",
            "1.00 - 1.40          9          ######\n",
            "1.40 - 1.80          0          \n",
            "1.80 - 2.20          11         #######\n",
            "2.20 - 2.60          0          \n",
            "2.60 - 3.00          30         ####################\n",
            "================================================================================\n"
          ]
        },
        {
          "output_type": "stream",
          "name": "stderr",
          "text": [
            "Experiment  Compare RAG Prompts with Custom Evaluator/gpt_4o_mini_cot-1743493409: 100%|██████████| 50/50 [00:21<00:00,  2.28sample/s]"
          ]
        },
        {
          "output_type": "stream",
          "name": "stdout",
          "text": [
            "\n",
            "small-hallucination-check (glider) [link_idx=0]\n",
            "-----------------------------------------------\n",
            "Count     : 50\n",
            "Pass rate : 0.58\n",
            "Mean      : 2.44\n",
            "Min       : 1.0\n",
            "25%       : 2.0\n",
            "50%       : 3.0\n",
            "75%       : 3.0\n",
            "Max       : 3.0\n",
            "\n",
            "Score distribution\n",
            "Score Range          Count      Histogram\n",
            "1.00 - 1.40          7          ####\n",
            "1.40 - 1.80          0          \n",
            "1.80 - 2.20          14         #########\n",
            "2.20 - 2.60          0          \n",
            "2.60 - 3.00          29         ####################\n"
          ]
        },
        {
          "output_type": "stream",
          "name": "stderr",
          "text": [
            "\n"
          ]
        }
      ]
    },
    {
      "cell_type": "code",
      "source": [],
      "metadata": {
        "id": "av6KK6VtXtpe"
      },
      "execution_count": null,
      "outputs": []
    }
  ]
}